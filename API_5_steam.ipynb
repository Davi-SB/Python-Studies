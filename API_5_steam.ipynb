{
 "cells": [
  {
   "cell_type": "code",
   "execution_count": 44,
   "metadata": {},
   "outputs": [],
   "source": [
    "import openai\n",
    "from dotenv import load_dotenv, find_dotenv\n",
    "\n",
    "load_dotenv(find_dotenv())\n",
    "client = openai.Client()\n",
    "\n",
    "chat = [{'role': 'user', 'content': 'me conte uma história de 150 palavras'}]\n",
    "\n",
    "resposta = client.chat.completions.create(\n",
    "    model = \"gpt-3.5-turbo-0125\",\n",
    "    messages = chat, \n",
    "    max_tokens = 500,\n",
    "    temperature = 1.5,\n",
    "    stream = True # faz a API retornar a resposta assim que ela estiver pronta\n",
    ")"
   ]
  },
  {
   "cell_type": "markdown",
   "metadata": {},
   "source": [
    "`resposta` agora é uma stream e não pode ser usada como antes (`resposta.choices[0].message.content`). Os pedaços devem ser concatenados para ter a mensagem completa"
   ]
  },
  {
   "cell_type": "code",
   "execution_count": 45,
   "metadata": {},
   "outputs": [
    {
     "data": {
      "text/plain": [
       "<openai.Stream at 0x1d7ae3ad8d0>"
      ]
     },
     "execution_count": 45,
     "metadata": {},
     "output_type": "execute_result"
    }
   ],
   "source": [
    "resposta"
   ]
  },
  {
   "cell_type": "markdown",
   "metadata": {},
   "source": [
    "`steam = True` libera um iterator para a resposta que pode ser acessada como no for abaixo. Na última iteração, o token é `None`. por isso, `if token:` é usado para evitar que ele seja printado. Isso dá o efeito do texto sendo escrito e não deixa o usuário esperando"
   ]
  },
  {
   "cell_type": "code",
   "execution_count": 46,
   "metadata": {},
   "outputs": [
    {
     "name": "stdout",
     "output_type": "stream",
     "text": [
      "E era uma vez uma pequena joaninha chamada Lara que divertia-se voando de flor em flor no jardim de sua casa. Um dia, ao encontrar-se com uma borboleta amiga, soube que uma grande tempestade estava se aproximando, trazendo consigo fortes ventos e chuva intensa. Lara sentiu medo, mas a borboleta sábia a encorajou a se refugiar num lugar seguro. Juntas voaram até uma pequena toca no tronco de uma árvore, onde esperaram seguras até que a tempestade passasse. Quando a chuva finalmente cessou e o sol voltou a brilhar, Lara e a borboleta saíram ilesas do esconderijo. A partir desse dia, Lara aprendeu que a melhor forma de enfrentar os desafios era com coragem e apoio dos amigos. E assim, seguiu a voar feliz pelo jardim, sabendo que nada mais poderia lhe assustar."
     ]
    }
   ],
   "source": [
    "resposta_completa = ''\n",
    "for stream_resposta in resposta: \n",
    "    token = stream_resposta.choices[0].delta.content\n",
    "    if token:\n",
    "        resposta_completa += token\n",
    "        print(token, end='')"
   ]
  },
  {
   "cell_type": "code",
   "execution_count": 47,
   "metadata": {},
   "outputs": [
    {
     "name": "stdout",
     "output_type": "stream",
     "text": [
      "E era uma vez uma pequena joaninha chamada Lara que divertia-se voando de flor em flor no jardim de sua casa. Um dia, ao encontrar-se com uma borboleta amiga, soube que uma grande tempestade estava se aproximando, trazendo consigo fortes ventos e chuva intensa. Lara sentiu medo, mas a borboleta sábia a encorajou a se refugiar num lugar seguro. Juntas voaram até uma pequena toca no tronco de uma árvore, onde esperaram seguras até que a tempestade passasse. Quando a chuva finalmente cessou e o sol voltou a brilhar, Lara e a borboleta saíram ilesas do esconderijo. A partir desse dia, Lara aprendeu que a melhor forma de enfrentar os desafios era com coragem e apoio dos amigos. E assim, seguiu a voar feliz pelo jardim, sabendo que nada mais poderia lhe assustar.\n"
     ]
    }
   ],
   "source": [
    "print(resposta_completa)"
   ]
  }
 ],
 "metadata": {
  "kernelspec": {
   "display_name": "Python 3",
   "language": "python",
   "name": "python3"
  },
  "language_info": {
   "codemirror_mode": {
    "name": "ipython",
    "version": 3
   },
   "file_extension": ".py",
   "mimetype": "text/x-python",
   "name": "python",
   "nbconvert_exporter": "python",
   "pygments_lexer": "ipython3",
   "version": "3.11.9"
  }
 },
 "nbformat": 4,
 "nbformat_minor": 2
}
