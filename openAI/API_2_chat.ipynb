{
 "cells": [
  {
   "cell_type": "markdown",
   "metadata": {},
   "source": [
    "Dessa forma a key é usada no código e fica escondida. openai.Client procura uma variável chamada \"OPENAI_API_KEY\" nas variáveis de ambiente (enviroment) e usa ela como valor da key"
   ]
  },
  {
   "cell_type": "code",
   "execution_count": 35,
   "metadata": {},
   "outputs": [
    {
     "data": {
      "text/plain": [
       "True"
      ]
     },
     "execution_count": 35,
     "metadata": {},
     "output_type": "execute_result"
    }
   ],
   "source": [
    "import openai\n",
    "from dotenv import load_dotenv, find_dotenv\n",
    "\n",
    "load_dotenv(find_dotenv())"
   ]
  },
  {
   "cell_type": "code",
   "execution_count": 36,
   "metadata": {},
   "outputs": [],
   "source": [
    "client = openai.Client()"
   ]
  },
  {
   "cell_type": "code",
   "execution_count": 37,
   "metadata": {},
   "outputs": [],
   "source": [
    "myChat = [\n",
    "    {'role': 'user', 'content': 'faça uma piada curta'}\n",
    "]\n",
    "\n",
    "response = client.chat.completions.create(\n",
    "    messages = myChat,\n",
    "    model =  'gpt-3.5-turbo-0125',\n",
    "    max_tokens = 500,\n",
    "    temperature = 0\n",
    ")"
   ]
  },
  {
   "cell_type": "markdown",
   "metadata": {},
   "source": [
    "output_text.choices[0].message.content --> onde fica a resposta à pergunta\n",
    "para adicionar essa resposta ao chat para poder continuar a conversa, é adicionado um novo dicionário com o role sendo o assistant (ou seja, o content veio do \"chatGPT\") e com o conteúdo sendo a resposta.\n",
    "\n",
    "## myChat --> lista de dicionários"
   ]
  },
  {
   "cell_type": "code",
   "execution_count": 38,
   "metadata": {},
   "outputs": [
    {
     "name": "stdout",
     "output_type": "stream",
     "text": [
      "resposta do modelo: Por que o livro de matemática ficou de castigo? Porque ele só fazia problemas.\n",
      "\n",
      "chat atual: \n",
      "[{'role': 'user', 'content': 'faça uma piada curta'}, {'role': 'assistant', 'content': 'Por que o livro de matemática ficou de castigo? Porque ele só fazia problemas.'}]\n"
     ]
    }
   ],
   "source": [
    "print(f\"resposta do modelo: {response.choices[0].message.content}\")\n",
    "\n",
    "myChat.append({'role': 'assistant', 'content': response.choices[0].message.content})\n",
    "print(f\"\\nchat atual: \\n{myChat}\")"
   ]
  }
 ],
 "metadata": {
  "kernelspec": {
   "display_name": "Python 3",
   "language": "python",
   "name": "python3"
  },
  "language_info": {
   "codemirror_mode": {
    "name": "ipython",
    "version": 3
   },
   "file_extension": ".py",
   "mimetype": "text/x-python",
   "name": "python",
   "nbconvert_exporter": "python",
   "pygments_lexer": "ipython3",
   "version": "3.11.9"
  }
 },
 "nbformat": 4,
 "nbformat_minor": 2
}
