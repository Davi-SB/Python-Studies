{
 "cells": [
  {
   "cell_type": "code",
   "execution_count": 2,
   "id": "5242944f",
   "metadata": {},
   "outputs": [],
   "source": [
    "import openai\n",
    "from dotenv import load_dotenv, find_dotenv\n",
    "\n",
    "load_dotenv(find_dotenv())\n",
    "client = openai.Client()"
   ]
  },
  {
   "cell_type": "markdown",
   "id": "6fb39568",
   "metadata": {},
   "source": [
    "- `content` do gpt vision é diferente, é composto por um texto e uma url de imagem"
   ]
  },
  {
   "cell_type": "code",
   "execution_count": 4,
   "id": "c2167655",
   "metadata": {},
   "outputs": [],
   "source": [
    "resposta = client.chat.completions.create(\n",
    "    model='gpt-4o',\n",
    "    messages=[{\n",
    "        'role': 'user',\n",
    "        'content': [\n",
    "            {'type': 'text', 'text': 'Descreva a imagem fornecida e transcreva o texto dela, se houver.'},\n",
    "            {'type': 'image_url', 'image_url': {'url': 'https://blog.decorlumen.com.br/wp-content/uploads/2023/07/1-3.jpg'}}\n",
    "        ]\n",
    "    }]\n",
    ")"
   ]
  },
  {
   "cell_type": "code",
   "execution_count": 5,
   "id": "788acc24",
   "metadata": {},
   "outputs": [
    {
     "name": "stdout",
     "output_type": "stream",
     "text": [
      "A imagem mostra uma sala de estar moderna e bem decorada. O ambiente possui um teto de gesso com iluminação LED, criando um efeito sofisticado. Há um grande sofá cinza, mesas de centro, quadros na parede e grandes janelas que oferecem uma vista da cidade à noite.\n",
      "\n",
      "Texto na imagem:\n",
      "\"DICA DECOR LUMEN\n",
      "Teto de gesso com LED: conheça esse acabamento na decoração\"\n"
     ]
    }
   ],
   "source": [
    "print(resposta.choices[0].message.content)"
   ]
  },
  {
   "cell_type": "markdown",
   "id": "efdc3223",
   "metadata": {},
   "source": [
    "### Converter uma imagem local em `base64`, decodificação que funciona também"
   ]
  },
  {
   "cell_type": "code",
   "execution_count": 6,
   "id": "ef8ac93d",
   "metadata": {},
   "outputs": [],
   "source": [
    "import base64\n",
    "\n",
    "def encode_image(caminho_imagem):\n",
    "    with open(caminho_imagem, 'rb' ) as img:\n",
    "        return base64.b64encode(img.read()).decode('utf-8')"
   ]
  },
  {
   "cell_type": "code",
   "execution_count": 10,
   "id": "33bd7b71",
   "metadata": {},
   "outputs": [
    {
     "name": "stdout",
     "output_type": "stream",
     "text": [
      "A imagem mostra um total de 7 pessoas na sala de espera. Excluindo a funcionária e as duas crianças, restam 4 pacientes esperando atendimento. \n",
      "\n",
      "Portanto, o tempo estimado de espera atual seria de 4 pacientes x 15 minutos = 60 minutos.\n"
     ]
    }
   ],
   "source": [
    "\n",
    "base_64_img = encode_image(\"Sala de espera.jpeg\")\n",
    "\n",
    "texto = \"\"\"A imagem mostra a sala de espera de um hospital. Identifique a quantidade de pessoas nessa sala no total. \n",
    "Além disso, você deve estimar o tempo de espera atual para ser atendido. Para isso você deve considerar a \n",
    "quantidade de pacientes, ou seja, não considerar médicos ou funcionários. Além disso, desconsidere as crianças, \n",
    "pois elas não estão esperando por atendimento médico. Para cada paciente, adicione 15min ao tempo de espera.\"\"\"\n",
    "\n",
    "resposta = client.chat.completions.create(\n",
    "    model='gpt-4o',\n",
    "    messages=[{\n",
    "        'role': 'user',\n",
    "        'content': [\n",
    "            {'type': 'text', 'text': texto},\n",
    "            {'type': 'image_url', 'image_url': \n",
    "            {'url': f'data:image/jpg;base64,{base_64_img}'}}\n",
    "        ]\n",
    "    }],\n",
    "    max_tokens=1000,\n",
    ")\n",
    "\n",
    "print(resposta.choices[0].message.content)"
   ]
  }
 ],
 "metadata": {
  "kernelspec": {
   "display_name": "Python 3",
   "language": "python",
   "name": "python3"
  },
  "language_info": {
   "codemirror_mode": {
    "name": "ipython",
    "version": 3
   },
   "file_extension": ".py",
   "mimetype": "text/x-python",
   "name": "python",
   "nbconvert_exporter": "python",
   "pygments_lexer": "ipython3",
   "version": "3.11.9"
  }
 },
 "nbformat": 4,
 "nbformat_minor": 5
}
