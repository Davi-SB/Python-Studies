{
 "cells": [
  {
   "cell_type": "code",
   "execution_count": 2,
   "id": "0b0a7bea",
   "metadata": {},
   "outputs": [],
   "source": [
    "import openai\n",
    "from dotenv import load_dotenv, find_dotenv\n",
    "\n",
    "load_dotenv(find_dotenv())\n",
    "client = openai.Client()"
   ]
  },
  {
   "cell_type": "markdown",
   "id": "b42d1662",
   "metadata": {},
   "source": [
    "### Armazenamento e upload de arquivos\n",
    "- Inicializar uma vector_store, estrutura de armazenamento de dados onde eles ficarão salvos\n",
    "- Abrir os arquivos numa lista de streams\n",
    "- Adicionar os dados (arquivos) à ``vector_store`` com `upload_and_pool`, passando como argumentos o ID do vector store que deve ser adicionado e lista de stream dos arquivos"
   ]
  },
  {
   "cell_type": "code",
   "execution_count": 3,
   "id": "9b6b0e13",
   "metadata": {},
   "outputs": [],
   "source": [
    "vector_store = client.beta.vector_stores.create(name = 'Informacoes Kaelen Voss')\n",
    "\n",
    "files = ['Scalable_Optimal_Countermeasure_Selectio.pdf'] # Uma lista pois é possível adicionar mais de um arquivo ao mesmo tempo\n",
    "files_stream = [open(file, 'rb') for file in files]\n",
    "\n",
    "file_batch = client.beta.vector_stores.file_batches.upload_and_poll(\n",
    "    vector_store_id = vector_store.id,\n",
    "    files           = files_stream,\n",
    ")"
   ]
  },
  {
   "cell_type": "code",
   "execution_count": 4,
   "id": "431888df",
   "metadata": {},
   "outputs": [
    {
     "name": "stdout",
     "output_type": "stream",
     "text": [
      "VectorStoreFileBatch(id='vsfb_8c6c127e041c46dc90477a1f593f776e', created_at=1731031001, file_counts=FileCounts(cancelled=0, completed=1, failed=0, in_progress=0, total=1), object='vector_store.file_batch', status='completed', vector_store_id='vs_KwHqmgFaMv0OvYWxsCQfcAHp')\n",
      "\n",
      "completed\n",
      "FileCounts(cancelled=0, completed=1, failed=0, in_progress=0, total=1)\n"
     ]
    }
   ],
   "source": [
    "print(file_batch, end='\\n\\n')\n",
    "print(file_batch.status)\n",
    "print(file_batch.file_counts)"
   ]
  },
  {
   "attachments": {},
   "cell_type": "markdown",
   "id": "d748127d",
   "metadata": {},
   "source": [
    "### Cria o assistant\n",
    "- `tools` indica o uso de `file_search`\n",
    "- `tool_resources` envia o id da vector store"
   ]
  },
  {
   "cell_type": "code",
   "execution_count": 5,
   "id": "b8385a71",
   "metadata": {},
   "outputs": [],
   "source": [
    "texto_instrucoes = \"\"\"Você deve responder as perguntas com base nas informações do artigo Scalable_Optimal_Countermeasure_Selectio.pdf.\n",
    "    Ainda, mostre em qual sessão do PDF você encontrou cada informação. Caso a informação não estiver presente\n",
    "    no PDF, diga que não sabe responder.\"\"\"\n",
    "\n",
    "assitant = client.beta.assistants.create(\n",
    "    name           = \"Analisador de Fault Tree\",\n",
    "    instructions   = texto_instrucoes,\n",
    "    tools          = [{'type': 'file_search'}],\n",
    "    tool_resources = {'file_search': {'vector_store_ids': [vector_store.id]}},\n",
    "    model          = 'gpt-4o-mini'\n",
    ")"
   ]
  },
  {
   "attachments": {},
   "cell_type": "markdown",
   "id": "2dd2acc5",
   "metadata": {},
   "source": [
    "### Cria a thread e adiciona mensagem nela"
   ]
  },
  {
   "cell_type": "code",
   "execution_count": 6,
   "id": "4ba988f8",
   "metadata": {},
   "outputs": [],
   "source": [
    "thread = client.beta.threads.create()\n",
    "\n",
    "message = client.beta.threads.messages.create(\n",
    "    thread_id = thread.id,\n",
    "    role      = 'user',\n",
    "    content   = 'Preciso que você me explique toda a lógica e sentido da árvore de falha \"Figure3. An ACT for SCADA system. Me explique todo o contexto do artigo necessário para entender a Figura 3\". Preciso entender o que é um ACT e como ele é utilizado em um SCADA system. Além, disso, cada evento, por que ele está ali e como ele se relaciona com os outros eventos.'\n",
    ")"
   ]
  },
  {
   "attachments": {},
   "cell_type": "markdown",
   "id": "db10a63b",
   "metadata": {},
   "source": [
    "### Assistant roda a thread e espera a run terminar"
   ]
  },
  {
   "cell_type": "code",
   "execution_count": 7,
   "id": "ab3e750e",
   "metadata": {},
   "outputs": [],
   "source": [
    "import time\n",
    "\n",
    "run = client.beta.threads.runs.create(\n",
    "    thread_id    = thread.id,\n",
    "    assistant_id = assitant.id,\n",
    "    instructions = 'O nome do usuário é Davi e não sabe nada sobre o artigo.'\n",
    ")\n",
    "\n",
    "while run.status in ['queued', 'in_progress', 'cancelling']:\n",
    "    time.sleep(0.5)\n",
    "    run = client.beta.threads.runs.retrieve(\n",
    "        thread_id = thread.id,\n",
    "        run_id    = run.id\n",
    "    )"
   ]
  },
  {
   "attachments": {},
   "cell_type": "markdown",
   "id": "f2b0bf80",
   "metadata": {},
   "source": [
    "### Verifica a resposta\n",
    "\n",
    "<details>\n",
    "<summary>Resposta esperada</summary>\n",
    "\n",
    "A Biblioteca de Ildra é essencial para Kaelen Voss, pois representa tanto seu refúgio de conhecimento quanto o centro de sua missão de vida: preservar o saber antigo para as futuras gerações. Lá, ele estudou sob a mentoria de Talia Rhen, realizou suas pesquisas mais importantes, e vê a biblioteca como um símbolo de proteção do saber. Ela é seu lar intelectual e o pilar de sua dedicação à preservação da história de Eriador.\n",
    "\n",
    "</details>\n"
   ]
  },
  {
   "cell_type": "code",
   "execution_count": 8,
   "id": "6fa5456c",
   "metadata": {},
   "outputs": [
    {
     "name": "stdout",
     "output_type": "stream",
     "text": [
      "SyncCursorPage[Message](data=[Message(id='msg_cZzvxCyLwgGhWGH1C8dJIzhi', assistant_id='asst_TJyIHv0beC2ZrW6tHXECilkC', attachments=[], completed_at=None, content=[TextContentBlock(text=Text(annotations=[], value='Para entender a Figura 3 do artigo, que apresenta uma árvore de ataque e contramedida (ACT) para um sistema SCADA (Supervisory Control and Data Acquisition), é essencial compreender o conceito de ACT e como ele é utilizado para modelar a segurança de sistemas críticos.\\n\\n### O que é um ACT?\\n\\nO (Attack Countermeasure Tree) ACT integra eventos de ataque, eventos de detecção e eventos de mitigação em uma estrutura de árvore. É uma evolução dos modelos anteriores como a árvore de ataque (AT), que tradicionalmente considerava apenas os modos de ataque sem levar em conta as contramedidas. Com o ACT, não só os ataques são modelados, mas também as formas de detectar e mitigar esses ataques. As vantagens incluem menores custos computacionais, já que o modelo permite análise sem a necessidade de atribuir probabilidades a cada evento, e a possibilidade de otimizar a seleção de contramedidas.\\n\\n### Contexto da SCADA em um ACT\\n\\nOs sistemas SCADA são fundamentais para o monitoramento e controle de processos industriais, sendo alvos vulneráveis a ataques cibernéticos devido à sua importância. Um ataque bem-sucedido a um sistema SCADA pode levar a interrupções significativas em serviços essenciais, como fornecimento de energia, tratamento de água, etc.\\n\\n### Análise da Figura 3\\n\\nNa Figura 3:\\n\\n- **Eventos de Ataque (atomic attack events)**:\\n  - **Unavailable LAN (Rede Indisponível)**: Este evento indica a perda de conectividade na rede, que é um ponto crítico para o funcionamento de sistemas SCADA. A falta de rede pode impedir a comunicação entre diferentes partes do sistema e impactar negativamente a funcionalidade.\\n  \\n  - **Power loads not provided (Cargas de energia não fornecidas)**: Esse evento tem como consequência a impossibilidade de fornecer a energia necessária aos sistemas de controle, levando a falhas operacionais.\\n  \\n  - **Incorrect estimates to customers (Estimativas incorretas para clientes)**: Um impacto possível de um ataque que compromete a integridade dos dados, resultando em informações erradas sobre o fornecimento de energia.\\n\\n- **Eventos de Detecção e Mitigação**:\\n  - Os eventos de detecção e mitigação são associados a contramedidas que podem ser implementadas para prevenir ou responder a ataques, embora a figura não especifique esses eventos minuciosamente.\\n\\n### Inter-relações dos Eventos\\n\\nNão é apenas a ocorrência de um ataque que pode levar a falhas. A figura sugere que um ataque pode resultar em múltiplos efeitos encadeados, como:\\n- A indisponibilidade da LAN pode diretamente causar a não entrega de cargas de energia e também causar que as estimativas para os clientes sejam incorretas.\\n- Eventos e contramedidas em um ACT podem ocorrer em uma relação de \"E\" (AND) e \"OU\" (OR), o que cria uma combinação complexa de como um incidente pode se desenrolar ou como as contramedidas podem ser efetivas.\\n\\n### Conclusão\\n\\nA Figura 3 representa uma visão abrangente sobre como os ataques a sistemas SCADA podem se manifestar, seus impactos e como diferentes eventos estão entrelaçados. O uso do ACT em sistemas SCADA é crucial para entender não apenas como prevenir ataques, mas também para preparar ações de detecção e mitigação, assegurando a segurança e operação contínua desses sistemas críticos. A implementação de contramedidas deve ser estratégica, considerando os custos e a eficácia na redução das vulnerabilidades associadas a cada ataque potencial.\\n\\nSe você precisar de mais detalhes ou de uma outra parte do artigo, fique à vontade para perguntar!'), type='text')], created_at=1731031043, incomplete_at=None, incomplete_details=None, metadata={}, object='thread.message', role='assistant', run_id='run_c0KEP65xSJM07hbFYKWgWDuM', status=None, thread_id='thread_3BpFe94AZQPQvhosfTrpNG6r'), Message(id='msg_blnJbsjeM18LQLpi3iVCN8ue', assistant_id=None, attachments=[], completed_at=None, content=[TextContentBlock(text=Text(annotations=[], value='Preciso que você me explique toda a lógica e sentido da árvore de falha \"Figure3. An ACT for SCADA system. Me explique todo o contexto do artigo necessário para entender a Figura 3\". Preciso entender o que é um ACT e como ele é utilizado em um SCADA system. Além, disso, cada evento, por que ele está ali e como ele se relaciona com os outros eventos.'), type='text')], created_at=1731031031, incomplete_at=None, incomplete_details=None, metadata={}, object='thread.message', role='user', run_id=None, status=None, thread_id='thread_3BpFe94AZQPQvhosfTrpNG6r')], object='list', first_id='msg_cZzvxCyLwgGhWGH1C8dJIzhi', last_id='msg_blnJbsjeM18LQLpi3iVCN8ue', has_more=False)\n"
     ]
    }
   ],
   "source": [
    "if run.status == 'completed':\n",
    "    mensagens = client.beta.threads.messages.list(\n",
    "        thread_id=thread.id\n",
    "    )\n",
    "    print(mensagens)\n",
    "else:\n",
    "    print('Errro', run.status)"
   ]
  },
  {
   "cell_type": "code",
   "execution_count": 10,
   "id": "3f9d818b",
   "metadata": {},
   "outputs": [
    {
     "name": "stdout",
     "output_type": "stream",
     "text": [
      "Para entender a Figura 3 do artigo, que apresenta uma árvore de ataque e contramedida (ACT) para um sistema SCADA (Supervisory Control and Data Acquisition), é essencial compreender o conceito de ACT e como ele é utilizado para modelar a segurança de sistemas críticos.\n",
      "\n",
      "### O que é um ACT?\n",
      "\n",
      "O (Attack Countermeasure Tree) ACT integra eventos de ataque, eventos de detecção e eventos de mitigação em uma estrutura de árvore. É uma evolução dos modelos anteriores como a árvore de ataque (AT), que tradicionalmente considerava apenas os modos de ataque sem levar em conta as contramedidas. Com o ACT, não só os ataques são modelados, mas também as formas de detectar e mitigar esses ataques. As vantagens incluem menores custos computacionais, já que o modelo permite análise sem a necessidade de atribuir probabilidades a cada evento, e a possibilidade de otimizar a seleção de contramedidas.\n",
      "\n",
      "### Contexto da SCADA em um ACT\n",
      "\n",
      "Os sistemas SCADA são fundamentais para o monitoramento e controle de processos industriais, sendo alvos vulneráveis a ataques cibernéticos devido à sua importância. Um ataque bem-sucedido a um sistema SCADA pode levar a interrupções significativas em serviços essenciais, como fornecimento de energia, tratamento de água, etc.\n",
      "\n",
      "### Análise da Figura 3\n",
      "\n",
      "Na Figura 3:\n",
      "\n",
      "- **Eventos de Ataque (atomic attack events)**:\n",
      "  - **Unavailable LAN (Rede Indisponível)**: Este evento indica a perda de conectividade na rede, que é um ponto crítico para o funcionamento de sistemas SCADA. A falta de rede pode impedir a comunicação entre diferentes partes do sistema e impactar negativamente a funcionalidade.\n",
      "  \n",
      "  - **Power loads not provided (Cargas de energia não fornecidas)**: Esse evento tem como consequência a impossibilidade de fornecer a energia necessária aos sistemas de controle, levando a falhas operacionais.\n",
      "  \n",
      "  - **Incorrect estimates to customers (Estimativas incorretas para clientes)**: Um impacto possível de um ataque que compromete a integridade dos dados, resultando em informações erradas sobre o fornecimento de energia.\n",
      "\n",
      "- **Eventos de Detecção e Mitigação**:\n",
      "  - Os eventos de detecção e mitigação são associados a contramedidas que podem ser implementadas para prevenir ou responder a ataques, embora a figura não especifique esses eventos minuciosamente.\n",
      "\n",
      "### Inter-relações dos Eventos\n",
      "\n",
      "Não é apenas a ocorrência de um ataque que pode levar a falhas. A figura sugere que um ataque pode resultar em múltiplos efeitos encadeados, como:\n",
      "- A indisponibilidade da LAN pode diretamente causar a não entrega de cargas de energia e também causar que as estimativas para os clientes sejam incorretas.\n",
      "- Eventos e contramedidas em um ACT podem ocorrer em uma relação de \"E\" (AND) e \"OU\" (OR), o que cria uma combinação complexa de como um incidente pode se desenrolar ou como as contramedidas podem ser efetivas.\n",
      "\n",
      "### Conclusão\n",
      "\n",
      "A Figura 3 representa uma visão abrangente sobre como os ataques a sistemas SCADA podem se manifestar, seus impactos e como diferentes eventos estão entrelaçados. O uso do ACT em sistemas SCADA é crucial para entender não apenas como prevenir ataques, mas também para preparar ações de detecção e mitigação, assegurando a segurança e operação contínua desses sistemas críticos. A implementação de contramedidas deve ser estratégica, considerando os custos e a eficácia na redução das vulnerabilidades associadas a cada ataque potencial.\n",
      "\n",
      "Se você precisar de mais detalhes ou de uma outra parte do artigo, fique à vontade para perguntar!\n"
     ]
    }
   ],
   "source": [
    "print(mensagens.data[0].content[0].text.value)"
   ]
  },
  {
   "cell_type": "markdown",
   "id": "40c59230",
   "metadata": {},
   "source": [
    "### Substitui as marcas de sources por índices e suas referências"
   ]
  },
  {
   "cell_type": "code",
   "execution_count": 11,
   "id": "056640c2",
   "metadata": {},
   "outputs": [
    {
     "data": {
      "text/plain": [
       "Text(annotations=[], value='Para entender a Figura 3 do artigo, que apresenta uma árvore de ataque e contramedida (ACT) para um sistema SCADA (Supervisory Control and Data Acquisition), é essencial compreender o conceito de ACT e como ele é utilizado para modelar a segurança de sistemas críticos.\\n\\n### O que é um ACT?\\n\\nO (Attack Countermeasure Tree) ACT integra eventos de ataque, eventos de detecção e eventos de mitigação em uma estrutura de árvore. É uma evolução dos modelos anteriores como a árvore de ataque (AT), que tradicionalmente considerava apenas os modos de ataque sem levar em conta as contramedidas. Com o ACT, não só os ataques são modelados, mas também as formas de detectar e mitigar esses ataques. As vantagens incluem menores custos computacionais, já que o modelo permite análise sem a necessidade de atribuir probabilidades a cada evento, e a possibilidade de otimizar a seleção de contramedidas.\\n\\n### Contexto da SCADA em um ACT\\n\\nOs sistemas SCADA são fundamentais para o monitoramento e controle de processos industriais, sendo alvos vulneráveis a ataques cibernéticos devido à sua importância. Um ataque bem-sucedido a um sistema SCADA pode levar a interrupções significativas em serviços essenciais, como fornecimento de energia, tratamento de água, etc.\\n\\n### Análise da Figura 3\\n\\nNa Figura 3:\\n\\n- **Eventos de Ataque (atomic attack events)**:\\n  - **Unavailable LAN (Rede Indisponível)**: Este evento indica a perda de conectividade na rede, que é um ponto crítico para o funcionamento de sistemas SCADA. A falta de rede pode impedir a comunicação entre diferentes partes do sistema e impactar negativamente a funcionalidade.\\n  \\n  - **Power loads not provided (Cargas de energia não fornecidas)**: Esse evento tem como consequência a impossibilidade de fornecer a energia necessária aos sistemas de controle, levando a falhas operacionais.\\n  \\n  - **Incorrect estimates to customers (Estimativas incorretas para clientes)**: Um impacto possível de um ataque que compromete a integridade dos dados, resultando em informações erradas sobre o fornecimento de energia.\\n\\n- **Eventos de Detecção e Mitigação**:\\n  - Os eventos de detecção e mitigação são associados a contramedidas que podem ser implementadas para prevenir ou responder a ataques, embora a figura não especifique esses eventos minuciosamente.\\n\\n### Inter-relações dos Eventos\\n\\nNão é apenas a ocorrência de um ataque que pode levar a falhas. A figura sugere que um ataque pode resultar em múltiplos efeitos encadeados, como:\\n- A indisponibilidade da LAN pode diretamente causar a não entrega de cargas de energia e também causar que as estimativas para os clientes sejam incorretas.\\n- Eventos e contramedidas em um ACT podem ocorrer em uma relação de \"E\" (AND) e \"OU\" (OR), o que cria uma combinação complexa de como um incidente pode se desenrolar ou como as contramedidas podem ser efetivas.\\n\\n### Conclusão\\n\\nA Figura 3 representa uma visão abrangente sobre como os ataques a sistemas SCADA podem se manifestar, seus impactos e como diferentes eventos estão entrelaçados. O uso do ACT em sistemas SCADA é crucial para entender não apenas como prevenir ataques, mas também para preparar ações de detecção e mitigação, assegurando a segurança e operação contínua desses sistemas críticos. A implementação de contramedidas deve ser estratégica, considerando os custos e a eficácia na redução das vulnerabilidades associadas a cada ataque potencial.\\n\\nSe você precisar de mais detalhes ou de uma outra parte do artigo, fique à vontade para perguntar!')"
      ]
     },
     "execution_count": 11,
     "metadata": {},
     "output_type": "execute_result"
    }
   ],
   "source": [
    "mensagens.data[0].content[0].text"
   ]
  },
  {
   "cell_type": "code",
   "execution_count": 12,
   "id": "e292d28a",
   "metadata": {},
   "outputs": [
    {
     "name": "stdout",
     "output_type": "stream",
     "text": [
      "Para entender a Figura 3 do artigo, que apresenta uma árvore de ataque e contramedida (ACT) para um sistema SCADA (Supervisory Control and Data Acquisition), é essencial compreender o conceito de ACT e como ele é utilizado para modelar a segurança de sistemas críticos.\n",
      "\n",
      "### O que é um ACT?\n",
      "\n",
      "O (Attack Countermeasure Tree) ACT integra eventos de ataque, eventos de detecção e eventos de mitigação em uma estrutura de árvore. É uma evolução dos modelos anteriores como a árvore de ataque (AT), que tradicionalmente considerava apenas os modos de ataque sem levar em conta as contramedidas. Com o ACT, não só os ataques são modelados, mas também as formas de detectar e mitigar esses ataques. As vantagens incluem menores custos computacionais, já que o modelo permite análise sem a necessidade de atribuir probabilidades a cada evento, e a possibilidade de otimizar a seleção de contramedidas.\n",
      "\n",
      "### Contexto da SCADA em um ACT\n",
      "\n",
      "Os sistemas SCADA são fundamentais para o monitoramento e controle de processos industriais, sendo alvos vulneráveis a ataques cibernéticos devido à sua importância. Um ataque bem-sucedido a um sistema SCADA pode levar a interrupções significativas em serviços essenciais, como fornecimento de energia, tratamento de água, etc.\n",
      "\n",
      "### Análise da Figura 3\n",
      "\n",
      "Na Figura 3:\n",
      "\n",
      "- **Eventos de Ataque (atomic attack events)**:\n",
      "  - **Unavailable LAN (Rede Indisponível)**: Este evento indica a perda de conectividade na rede, que é um ponto crítico para o funcionamento de sistemas SCADA. A falta de rede pode impedir a comunicação entre diferentes partes do sistema e impactar negativamente a funcionalidade.\n",
      "  \n",
      "  - **Power loads not provided (Cargas de energia não fornecidas)**: Esse evento tem como consequência a impossibilidade de fornecer a energia necessária aos sistemas de controle, levando a falhas operacionais.\n",
      "  \n",
      "  - **Incorrect estimates to customers (Estimativas incorretas para clientes)**: Um impacto possível de um ataque que compromete a integridade dos dados, resultando em informações erradas sobre o fornecimento de energia.\n",
      "\n",
      "- **Eventos de Detecção e Mitigação**:\n",
      "  - Os eventos de detecção e mitigação são associados a contramedidas que podem ser implementadas para prevenir ou responder a ataques, embora a figura não especifique esses eventos minuciosamente.\n",
      "\n",
      "### Inter-relações dos Eventos\n",
      "\n",
      "Não é apenas a ocorrência de um ataque que pode levar a falhas. A figura sugere que um ataque pode resultar em múltiplos efeitos encadeados, como:\n",
      "- A indisponibilidade da LAN pode diretamente causar a não entrega de cargas de energia e também causar que as estimativas para os clientes sejam incorretas.\n",
      "- Eventos e contramedidas em um ACT podem ocorrer em uma relação de \"E\" (AND) e \"OU\" (OR), o que cria uma combinação complexa de como um incidente pode se desenrolar ou como as contramedidas podem ser efetivas.\n",
      "\n",
      "### Conclusão\n",
      "\n",
      "A Figura 3 representa uma visão abrangente sobre como os ataques a sistemas SCADA podem se manifestar, seus impactos e como diferentes eventos estão entrelaçados. O uso do ACT em sistemas SCADA é crucial para entender não apenas como prevenir ataques, mas também para preparar ações de detecção e mitigação, assegurando a segurança e operação contínua desses sistemas críticos. A implementação de contramedidas deve ser estratégica, considerando os custos e a eficácia na redução das vulnerabilidades associadas a cada ataque potencial.\n",
      "\n",
      "Se você precisar de mais detalhes ou de uma outra parte do artigo, fique à vontade para perguntar!\n",
      "\n",
      "\n"
     ]
    }
   ],
   "source": [
    "# Função para substituir as anotações por números e adicionar as citações dos arquivos\n",
    "# Recebe uma mensagem e retorna o value da mensagem com as anotações substituídas\n",
    "def replace_annotations(mensagem):\n",
    "    anotacoes = mensagem.annotations\n",
    "    citacoes = []\n",
    "    \n",
    "    for index, anotacao in enumerate(anotacoes):\n",
    "        # Substitui o texto da anotação pelo índice\n",
    "        mensagem.value = mensagem.value.replace(anotacao.text, f'[{index}]')\n",
    "        \n",
    "        # Adiciona a citação do arquivo na lista de citações\n",
    "        # := --> (== && =)\n",
    "        # get attribute, se não existir, retorna None\n",
    "        if file_cit := getattr(anotacao, 'file_citation', None):\n",
    "            # Recupera o arquivo do ID\n",
    "            file = client.files.retrieve(file_cit.file_id)\n",
    "            # Adiciona o nome do arquivo na lista de citações\n",
    "            citacoes.append(f'[{index}] {file.filename}')\n",
    "    \n",
    "    # Junta as citações em uma única string separando por quebra de linha\n",
    "    citacoes = \"\\n\".join(citacoes)\n",
    "    \n",
    "    mensagem.value = f'{mensagem.value}\\n\\n{citacoes}'\n",
    "    return mensagem.value\n",
    "\n",
    "# Uso da função\n",
    "# .text tem não só os valores mas também as anotações\n",
    "mensagemSubstituida = replace_annotations(mensagens.data[0].content[0].text)\n",
    "print(mensagemSubstituida)\n"
   ]
  },
  {
   "attachments": {},
   "cell_type": "markdown",
   "id": "27e24b15",
   "metadata": {},
   "source": [
    "### Analisando os passos do modelo"
   ]
  },
  {
   "cell_type": "code",
   "execution_count": 13,
   "id": "b5596864",
   "metadata": {},
   "outputs": [],
   "source": [
    "run_steps = client.beta.threads.runs.steps.list(\n",
    "  thread_id=thread.id,\n",
    "  run_id=run.id\n",
    ")"
   ]
  },
  {
   "cell_type": "code",
   "execution_count": 14,
   "id": "f14a93b1",
   "metadata": {},
   "outputs": [
    {
     "name": "stdout",
     "output_type": "stream",
     "text": [
      "=== Step: tool_calls\n",
      "=== Step: message_creation\n"
     ]
    }
   ],
   "source": [
    "for step in run_steps.data[::-1]:\n",
    "    print('=== Step:', step.step_details.type)\n",
    "    "
   ]
  },
  {
   "cell_type": "code",
   "execution_count": 15,
   "id": "f2c8d5ea",
   "metadata": {},
   "outputs": [
    {
     "name": "stdout",
     "output_type": "stream",
     "text": [
      "\n",
      "=== Step: tool_calls\n",
      "FileSearchToolCall(id='call_nYqRZCsbbXuR3Dwq18qZZeLk', file_search=FileSearch(ranking_options=FileSearchRankingOptions(ranker='default_2024_08_21', score_threshold=0.0), results=[FileSearchResult(file_id='file-g2nX1Qid0qtbr9CPPtmkyzGY', file_name='Scalable_Optimal_Countermeasure_Selectio.pdf', score=0.7751473150745296, content=None), FileSearchResult(file_id='file-g2nX1Qid0qtbr9CPPtmkyzGY', file_name='Scalable_Optimal_Countermeasure_Selectio.pdf', score=0.7616554910463882, content=None), FileSearchResult(file_id='file-g2nX1Qid0qtbr9CPPtmkyzGY', file_name='Scalable_Optimal_Countermeasure_Selectio.pdf', score=0.6204763198576249, content=None), FileSearchResult(file_id='file-g2nX1Qid0qtbr9CPPtmkyzGY', file_name='Scalable_Optimal_Countermeasure_Selectio.pdf', score=0.6118347625883317, content=None), FileSearchResult(file_id='file-g2nX1Qid0qtbr9CPPtmkyzGY', file_name='Scalable_Optimal_Countermeasure_Selectio.pdf', score=0.608078045395188, content=None), FileSearchResult(file_id='file-g2nX1Qid0qtbr9CPPtmkyzGY', file_name='Scalable_Optimal_Countermeasure_Selectio.pdf', score=0.6037178076385471, content=None), FileSearchResult(file_id='file-g2nX1Qid0qtbr9CPPtmkyzGY', file_name='Scalable_Optimal_Countermeasure_Selectio.pdf', score=0.5578151444811638, content=None), FileSearchResult(file_id='file-g2nX1Qid0qtbr9CPPtmkyzGY', file_name='Scalable_Optimal_Countermeasure_Selectio.pdf', score=0.5192907680554529, content=None), FileSearchResult(file_id='file-g2nX1Qid0qtbr9CPPtmkyzGY', file_name='Scalable_Optimal_Countermeasure_Selectio.pdf', score=0.4975182923527383, content=None), FileSearchResult(file_id='file-g2nX1Qid0qtbr9CPPtmkyzGY', file_name='Scalable_Optimal_Countermeasure_Selectio.pdf', score=0.49593333803819095, content=None), FileSearchResult(file_id='file-g2nX1Qid0qtbr9CPPtmkyzGY', file_name='Scalable_Optimal_Countermeasure_Selectio.pdf', score=0.4883537080932186, content=None), FileSearchResult(file_id='file-g2nX1Qid0qtbr9CPPtmkyzGY', file_name='Scalable_Optimal_Countermeasure_Selectio.pdf', score=0.48729383573957735, content=None), FileSearchResult(file_id='file-g2nX1Qid0qtbr9CPPtmkyzGY', file_name='Scalable_Optimal_Countermeasure_Selectio.pdf', score=0.4865511674081937, content=None), FileSearchResult(file_id='file-g2nX1Qid0qtbr9CPPtmkyzGY', file_name='Scalable_Optimal_Countermeasure_Selectio.pdf', score=0.4863265051238504, content=None), FileSearchResult(file_id='file-g2nX1Qid0qtbr9CPPtmkyzGY', file_name='Scalable_Optimal_Countermeasure_Selectio.pdf', score=0.47663181213360667, content=None), FileSearchResult(file_id='file-g2nX1Qid0qtbr9CPPtmkyzGY', file_name='Scalable_Optimal_Countermeasure_Selectio.pdf', score=0.4716716502779174, content=None), FileSearchResult(file_id='file-g2nX1Qid0qtbr9CPPtmkyzGY', file_name='Scalable_Optimal_Countermeasure_Selectio.pdf', score=0.46697669334514796, content=None), FileSearchResult(file_id='file-g2nX1Qid0qtbr9CPPtmkyzGY', file_name='Scalable_Optimal_Countermeasure_Selectio.pdf', score=0.46559586105078726, content=None), FileSearchResult(file_id='file-g2nX1Qid0qtbr9CPPtmkyzGY', file_name='Scalable_Optimal_Countermeasure_Selectio.pdf', score=0.4645216299888217, content=None), FileSearchResult(file_id='file-g2nX1Qid0qtbr9CPPtmkyzGY', file_name='Scalable_Optimal_Countermeasure_Selectio.pdf', score=0.4543655765654422, content=None)]), type='file_search')\n",
      "\n",
      "=== Step: message_creation\n",
      "Para entender a Figura 3 do artigo, que apresenta uma árvore de ataque e contramedida (ACT) para um sistema SCADA (Supervisory Control and Data Acquisition), é essencial compreender o conceito de ACT e como ele é utilizado para modelar a segurança de sistemas críticos.\n",
      "\n",
      "### O que é um ACT?\n",
      "\n",
      "O (Attack Countermeasure Tree) ACT integra eventos de ataque, eventos de detecção e eventos de mitigação em uma estrutura de árvore. É uma evolução dos modelos anteriores como a árvore de ataque (AT), que tradicionalmente considerava apenas os modos de ataque sem levar em conta as contramedidas. Com o ACT, não só os ataques são modelados, mas também as formas de detectar e mitigar esses ataques. As vantagens incluem menores custos computacionais, já que o modelo permite análise sem a necessidade de atribuir probabilidades a cada evento, e a possibilidade de otimizar a seleção de contramedidas.\n",
      "\n",
      "### Contexto da SCADA em um ACT\n",
      "\n",
      "Os sistemas SCADA são fundamentais para o monitoramento e controle de processos industriais, sendo alvos vulneráveis a ataques cibernéticos devido à sua importância. Um ataque bem-sucedido a um sistema SCADA pode levar a interrupções significativas em serviços essenciais, como fornecimento de energia, tratamento de água, etc.\n",
      "\n",
      "### Análise da Figura 3\n",
      "\n",
      "Na Figura 3:\n",
      "\n",
      "- **Eventos de Ataque (atomic attack events)**:\n",
      "  - **Unavailable LAN (Rede Indisponível)**: Este evento indica a perda de conectividade na rede, que é um ponto crítico para o funcionamento de sistemas SCADA. A falta de rede pode impedir a comunicação entre diferentes partes do sistema e impactar negativamente a funcionalidade.\n",
      "  \n",
      "  - **Power loads not provided (Cargas de energia não fornecidas)**: Esse evento tem como consequência a impossibilidade de fornecer a energia necessária aos sistemas de controle, levando a falhas operacionais.\n",
      "  \n",
      "  - **Incorrect estimates to customers (Estimativas incorretas para clientes)**: Um impacto possível de um ataque que compromete a integridade dos dados, resultando em informações erradas sobre o fornecimento de energia.\n",
      "\n",
      "- **Eventos de Detecção e Mitigação**:\n",
      "  - Os eventos de detecção e mitigação são associados a contramedidas que podem ser implementadas para prevenir ou responder a ataques, embora a figura não especifique esses eventos minuciosamente.\n",
      "\n",
      "### Inter-relações dos Eventos\n",
      "\n",
      "Não é apenas a ocorrência de um ataque que pode levar a falhas. A figura sugere que um ataque pode resultar em múltiplos efeitos encadeados, como:\n",
      "- A indisponibilidade da LAN pode diretamente causar a não entrega de cargas de energia e também causar que as estimativas para os clientes sejam incorretas.\n",
      "- Eventos e contramedidas em um ACT podem ocorrer em uma relação de \"E\" (AND) e \"OU\" (OR), o que cria uma combinação complexa de como um incidente pode se desenrolar ou como as contramedidas podem ser efetivas.\n",
      "\n",
      "### Conclusão\n",
      "\n",
      "A Figura 3 representa uma visão abrangente sobre como os ataques a sistemas SCADA podem se manifestar, seus impactos e como diferentes eventos estão entrelaçados. O uso do ACT em sistemas SCADA é crucial para entender não apenas como prevenir ataques, mas também para preparar ações de detecção e mitigação, assegurando a segurança e operação contínua desses sistemas críticos. A implementação de contramedidas deve ser estratégica, considerando os custos e a eficácia na redução das vulnerabilidades associadas a cada ataque potencial.\n",
      "\n",
      "Se você precisar de mais detalhes ou de uma outra parte do artigo, fique à vontade para perguntar!\n",
      "\n",
      "\n"
     ]
    }
   ],
   "source": [
    "for step in run_steps.data[::-1]:\n",
    "    print('\\n=== Step:', step.step_details.type)\n",
    "    \n",
    "    if step.step_details.type == 'tool_calls':\n",
    "        for tool_call in step.step_details.tool_calls:\n",
    "            if tool_call.type == 'file_search':\n",
    "                print(tool_call)\n",
    "            else: # code_interpreter\n",
    "                print('-----')\n",
    "                print(tool_call.code_interpreter.input)\n",
    "                print('-----')\n",
    "    \n",
    "    if step.step_details.type == 'message_creation':\n",
    "        message = client.beta.threads.messages.retrieve(\n",
    "            thread_id=thread.id,\n",
    "            message_id=step.step_details.message_creation.message_id\n",
    "        )\n",
    "        print(replace_annotations(message.content[0].text))\n",
    "    "
   ]
  }
 ],
 "metadata": {
  "kernelspec": {
   "display_name": "Python 3",
   "language": "python",
   "name": "python3"
  },
  "language_info": {
   "codemirror_mode": {
    "name": "ipython",
    "version": 3
   },
   "file_extension": ".py",
   "mimetype": "text/x-python",
   "name": "python",
   "nbconvert_exporter": "python",
   "pygments_lexer": "ipython3",
   "version": "3.11.9"
  }
 },
 "nbformat": 4,
 "nbformat_minor": 5
}
