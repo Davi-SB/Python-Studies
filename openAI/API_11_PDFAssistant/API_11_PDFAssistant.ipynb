{
 "cells": [
  {
   "cell_type": "code",
   "execution_count": 1,
   "id": "0b0a7bea",
   "metadata": {},
   "outputs": [],
   "source": [
    "import openai\n",
    "from dotenv import load_dotenv, find_dotenv\n",
    "\n",
    "load_dotenv(find_dotenv())\n",
    "client = openai.Client()"
   ]
  },
  {
   "cell_type": "markdown",
   "id": "b42d1662",
   "metadata": {},
   "source": [
    "### Armazenamento e upload de arquivos\n",
    "- Inicializar uma vector_store, estrutura de armazenamento de dados onde eles ficarão salvos\n",
    "- Abrir os arquivos numa lista de streams\n",
    "- Adicionar os dados (arquivos) à ``vector_store`` com `upload_and_pool`, passando como argumentos o ID do vector store que deve ser adicionado e lista de stream dos arquivos"
   ]
  },
  {
   "cell_type": "code",
   "execution_count": 2,
   "id": "9b6b0e13",
   "metadata": {},
   "outputs": [],
   "source": [
    "vector_store = client.beta.vector_stores.create(name = 'Informacoes Kaelen Voss')\n",
    "\n",
    "files = ['Kaelen_Voss_Profile.pdf'] # Uma lista pois é possível adicionar mais de um arquivo ao mesmo tempo\n",
    "files_stream = [open(file, 'rb') for file in files]\n",
    "\n",
    "file_batch = client.beta.vector_stores.file_batches.upload_and_poll(\n",
    "    vector_store_id = vector_store.id,\n",
    "    files           = files_stream,\n",
    ")"
   ]
  },
  {
   "cell_type": "code",
   "execution_count": 3,
   "id": "431888df",
   "metadata": {},
   "outputs": [
    {
     "name": "stdout",
     "output_type": "stream",
     "text": [
      "VectorStoreFileBatch(id='vsfb_aac81ac943bb40518fbd750fddc9fb51', created_at=1730691879, file_counts=FileCounts(cancelled=0, completed=1, failed=0, in_progress=0, total=1), object='vector_store.file_batch', status='completed', vector_store_id='vs_U6N6q7C2cMdLvVMaA0t4vgqh')\n",
      "\n",
      "completed\n",
      "FileCounts(cancelled=0, completed=1, failed=0, in_progress=0, total=1)\n"
     ]
    }
   ],
   "source": [
    "print(file_batch, end='\\n\\n')\n",
    "print(file_batch.status)\n",
    "print(file_batch.file_counts)"
   ]
  },
  {
   "attachments": {},
   "cell_type": "markdown",
   "id": "d748127d",
   "metadata": {},
   "source": [
    "### Cria o assistant\n",
    "- `tools` indica o uso de `file_search`\n",
    "- `tool_resources` envia o id da vector store"
   ]
  },
  {
   "cell_type": "code",
   "execution_count": 4,
   "id": "b8385a71",
   "metadata": {},
   "outputs": [],
   "source": [
    "texto_instrucoes = \"\"\"Você deve responder as perguntas com base nas informações do PDF fornecido de Kaelen Voss.\n",
    "    Ainda, mostre em qual sessão do PDF você encontrou cada informação. Caso a informação não estiver presente\n",
    "    no PDF, diga que não sabe responder.\"\"\"\n",
    "\n",
    "assitant = client.beta.assistants.create(\n",
    "    name           = \"Extrator de informações PDF de Kaelen Voss\",\n",
    "    instructions   = texto_instrucoes,\n",
    "    tools          = [{'type': 'file_search'}],\n",
    "    tool_resources = {'file_search': {'vector_store_ids': [vector_store.id]}},\n",
    "    model          = 'gpt-4o-mini'\n",
    ")"
   ]
  },
  {
   "attachments": {},
   "cell_type": "markdown",
   "id": "2dd2acc5",
   "metadata": {},
   "source": [
    "### Cria a thread e adiciona mensagem nela"
   ]
  },
  {
   "cell_type": "code",
   "execution_count": 5,
   "id": "4ba988f8",
   "metadata": {},
   "outputs": [],
   "source": [
    "thread = client.beta.threads.create()\n",
    "\n",
    "message = client.beta.threads.messages.create(\n",
    "    thread_id = thread.id,\n",
    "    role      = 'user',\n",
    "    content   = 'Qual é a importância da Biblioteca de Ildra no contexto da vida de Kaelen? Responda em no máximo 2 parágrafos.'\n",
    ")"
   ]
  },
  {
   "attachments": {},
   "cell_type": "markdown",
   "id": "db10a63b",
   "metadata": {},
   "source": [
    "### Assistant roda a thread e espera a run terminar"
   ]
  },
  {
   "cell_type": "code",
   "execution_count": 6,
   "id": "ab3e750e",
   "metadata": {},
   "outputs": [],
   "source": [
    "import time\n",
    "\n",
    "run = client.beta.threads.runs.create(\n",
    "    thread_id    = thread.id,\n",
    "    assistant_id = assitant.id,\n",
    "    instructions = 'O nome do usuário é Davi e ele está tentando entender a vida de Kaelen.'\n",
    ")\n",
    "\n",
    "while run.status in ['queued', 'in_progress', 'cancelling']:\n",
    "    time.sleep(1)\n",
    "    run = client.beta.threads.runs.retrieve(\n",
    "        thread_id = thread.id,\n",
    "        run_id    = run.id\n",
    "    )"
   ]
  },
  {
   "attachments": {},
   "cell_type": "markdown",
   "id": "f2b0bf80",
   "metadata": {},
   "source": [
    "### Verifica a resposta\n",
    "\n",
    "<details>\n",
    "<summary>Resposta esperada</summary>\n",
    "\n",
    "A Biblioteca de Ildra é essencial para Kaelen Voss, pois representa tanto seu refúgio de conhecimento quanto o centro de sua missão de vida: preservar o saber antigo para as futuras gerações. Lá, ele estudou sob a mentoria de Talia Rhen, realizou suas pesquisas mais importantes, e vê a biblioteca como um símbolo de proteção do saber. Ela é seu lar intelectual e o pilar de sua dedicação à preservação da história de Eriador.\n",
    "\n",
    "</details>\n"
   ]
  },
  {
   "cell_type": "code",
   "execution_count": 7,
   "id": "6fa5456c",
   "metadata": {},
   "outputs": [
    {
     "name": "stdout",
     "output_type": "stream",
     "text": [
      "SyncCursorPage[Message](data=[Message(id='msg_pTJN20PaMIn0c6qyWBhp9Pou', assistant_id='asst_QHZuE3GemNFj6Svn7Cr0XLOd', attachments=[], completed_at=None, content=[TextContentBlock(text=Text(annotations=[FileCitationAnnotation(end_index=775, file_citation=FileCitation(file_id='file-fYCsu6QCXW45Tbk78KzZTGrn'), start_index=763, text='【4:1†source】', type='file_citation'), FileCitationAnnotation(end_index=787, file_citation=FileCitation(file_id='file-fYCsu6QCXW45Tbk78KzZTGrn'), start_index=775, text='【4:2†source】', type='file_citation'), FileCitationAnnotation(end_index=1430, file_citation=FileCitation(file_id='file-fYCsu6QCXW45Tbk78KzZTGrn'), start_index=1418, text='【4:4†source】', type='file_citation'), FileCitationAnnotation(end_index=1442, file_citation=FileCitation(file_id='file-fYCsu6QCXW45Tbk78KzZTGrn'), start_index=1430, text='【4:5†source】', type='file_citation')], value='A Biblioteca de Ildra desempenha um papel crucial na vida de Kaelen Voss, servindo como o centro de sua busca pelo conhecimento e preservação da história. Localizada na capital do Reino de Eriador, a biblioteca não é apenas um local de estudo, mas também simboliza a estrutura hierárquica da sociedade erudita em que Kaelen se destacou. Desde seus 15 anos, quando ele foi enviado para estudar sob a orientação de Talia Rhen, uma respeitada acadêmica, a biblioteca tornou-se seu lar e abrigo intelectual. Esse ambiente moldou sua curiosidade e paixão, permitindo que se tornasse um dos principais historiadores e conselheiros do rei, ao mesmo tempo em que desenvolvia uma vida de expedições e descobertas que almejavam desvendar os segredos de civilizações antigas【4:1†source】【4:2†source】.\\n\\nAlém de ser um espaço físico de aprendizado, a Biblioteca de Ildra reflete a crença de Kaelen no valor do conhecimento como uma ferramenta essencial para a paz e a prosperidade em Eriador. Sua dedicação à preservação da história e ao entendimento das civilizações passadas posiciona Kaelen em conflito com aqueles que buscam poder imediato, enfatizando seu papel como um defensor do saber em detrimento da ambição desmedida. Este compromisso com a erudição e a pesquisa se entrelaça com sua própria identidade, tornando a biblioteca não apenas um local, mas uma extensão de seus próprios valores e objetivos ao longo de sua vida【4:4†source】【4:5†source】.'), type='text')], created_at=1730691884, incomplete_at=None, incomplete_details=None, metadata={}, object='thread.message', role='assistant', run_id='run_tEwtECiaIgdhA7iHyhZqHV0x', status=None, thread_id='thread_viH59YKhfzV9JKVf67ayC8IG'), Message(id='msg_uDmNeuZnIPyCZo5PTbcBMpmI', assistant_id=None, attachments=[], completed_at=None, content=[TextContentBlock(text=Text(annotations=[], value='Qual é a importância da Biblioteca de Ildra no contexto da vida de Kaelen? Responda em no máximo 2 parágrafos.'), type='text')], created_at=1730691881, incomplete_at=None, incomplete_details=None, metadata={}, object='thread.message', role='user', run_id=None, status=None, thread_id='thread_viH59YKhfzV9JKVf67ayC8IG')], object='list', first_id='msg_pTJN20PaMIn0c6qyWBhp9Pou', last_id='msg_uDmNeuZnIPyCZo5PTbcBMpmI', has_more=False)\n"
     ]
    }
   ],
   "source": [
    "if run.status == 'completed':\n",
    "    mensagens = client.beta.threads.messages.list(\n",
    "        thread_id=thread.id\n",
    "    )\n",
    "    print(mensagens)\n",
    "else:\n",
    "    print('Errro', run.status)"
   ]
  },
  {
   "cell_type": "code",
   "execution_count": 8,
   "id": "3f9d818b",
   "metadata": {},
   "outputs": [
    {
     "name": "stdout",
     "output_type": "stream",
     "text": [
      "A Biblioteca de Ildra desempenha um papel crucial na vida de Kaelen Voss, servindo como o centro de sua busca pelo conhecimento e preservação da história. Localizada na capital do Reino de Eriador, a biblioteca não é apenas um local de estudo, mas também simboliza a estrutura hierárquica da sociedade erudita em que Kaelen se destacou. Desde seus 15 anos, quando ele foi enviado para estudar sob a orientação de Talia Rhen, uma respeitada acadêmica, a biblioteca tornou-se seu lar e abrigo intelectual. Esse ambiente moldou sua curiosidade e paixão, permitindo que se tornasse um dos principais historiadores e conselheiros do rei, ao mesmo tempo em que desenvolvia uma vida de expedições e descobertas que almejavam desvendar os segredos de civilizações antigas【4:1†source】【4:2†source】.\n",
      "\n",
      "Além de ser um espaço físico de aprendizado, a Biblioteca de Ildra reflete a crença de Kaelen no valor do conhecimento como uma ferramenta essencial para a paz e a prosperidade em Eriador. Sua dedicação à preservação da história e ao entendimento das civilizações passadas posiciona Kaelen em conflito com aqueles que buscam poder imediato, enfatizando seu papel como um defensor do saber em detrimento da ambição desmedida. Este compromisso com a erudição e a pesquisa se entrelaça com sua própria identidade, tornando a biblioteca não apenas um local, mas uma extensão de seus próprios valores e objetivos ao longo de sua vida【4:4†source】【4:5†source】.\n"
     ]
    }
   ],
   "source": [
    "print(mensagens.data[0].content[0].text.value)"
   ]
  },
  {
   "cell_type": "markdown",
   "id": "40c59230",
   "metadata": {},
   "source": [
    "### Substitui as marcas de sources por índices e suas referências"
   ]
  },
  {
   "cell_type": "code",
   "execution_count": 9,
   "id": "056640c2",
   "metadata": {},
   "outputs": [
    {
     "data": {
      "text/plain": [
       "Text(annotations=[FileCitationAnnotation(end_index=775, file_citation=FileCitation(file_id='file-fYCsu6QCXW45Tbk78KzZTGrn'), start_index=763, text='【4:1†source】', type='file_citation'), FileCitationAnnotation(end_index=787, file_citation=FileCitation(file_id='file-fYCsu6QCXW45Tbk78KzZTGrn'), start_index=775, text='【4:2†source】', type='file_citation'), FileCitationAnnotation(end_index=1430, file_citation=FileCitation(file_id='file-fYCsu6QCXW45Tbk78KzZTGrn'), start_index=1418, text='【4:4†source】', type='file_citation'), FileCitationAnnotation(end_index=1442, file_citation=FileCitation(file_id='file-fYCsu6QCXW45Tbk78KzZTGrn'), start_index=1430, text='【4:5†source】', type='file_citation')], value='A Biblioteca de Ildra desempenha um papel crucial na vida de Kaelen Voss, servindo como o centro de sua busca pelo conhecimento e preservação da história. Localizada na capital do Reino de Eriador, a biblioteca não é apenas um local de estudo, mas também simboliza a estrutura hierárquica da sociedade erudita em que Kaelen se destacou. Desde seus 15 anos, quando ele foi enviado para estudar sob a orientação de Talia Rhen, uma respeitada acadêmica, a biblioteca tornou-se seu lar e abrigo intelectual. Esse ambiente moldou sua curiosidade e paixão, permitindo que se tornasse um dos principais historiadores e conselheiros do rei, ao mesmo tempo em que desenvolvia uma vida de expedições e descobertas que almejavam desvendar os segredos de civilizações antigas【4:1†source】【4:2†source】.\\n\\nAlém de ser um espaço físico de aprendizado, a Biblioteca de Ildra reflete a crença de Kaelen no valor do conhecimento como uma ferramenta essencial para a paz e a prosperidade em Eriador. Sua dedicação à preservação da história e ao entendimento das civilizações passadas posiciona Kaelen em conflito com aqueles que buscam poder imediato, enfatizando seu papel como um defensor do saber em detrimento da ambição desmedida. Este compromisso com a erudição e a pesquisa se entrelaça com sua própria identidade, tornando a biblioteca não apenas um local, mas uma extensão de seus próprios valores e objetivos ao longo de sua vida【4:4†source】【4:5†source】.')"
      ]
     },
     "execution_count": 9,
     "metadata": {},
     "output_type": "execute_result"
    }
   ],
   "source": [
    "mensagens.data[0].content[0].text"
   ]
  },
  {
   "cell_type": "code",
   "execution_count": 10,
   "id": "e292d28a",
   "metadata": {},
   "outputs": [
    {
     "name": "stdout",
     "output_type": "stream",
     "text": [
      "A Biblioteca de Ildra desempenha um papel crucial na vida de Kaelen Voss, servindo como o centro de sua busca pelo conhecimento e preservação da história. Localizada na capital do Reino de Eriador, a biblioteca não é apenas um local de estudo, mas também simboliza a estrutura hierárquica da sociedade erudita em que Kaelen se destacou. Desde seus 15 anos, quando ele foi enviado para estudar sob a orientação de Talia Rhen, uma respeitada acadêmica, a biblioteca tornou-se seu lar e abrigo intelectual. Esse ambiente moldou sua curiosidade e paixão, permitindo que se tornasse um dos principais historiadores e conselheiros do rei, ao mesmo tempo em que desenvolvia uma vida de expedições e descobertas que almejavam desvendar os segredos de civilizações antigas[0][1].\n",
      "\n",
      "Além de ser um espaço físico de aprendizado, a Biblioteca de Ildra reflete a crença de Kaelen no valor do conhecimento como uma ferramenta essencial para a paz e a prosperidade em Eriador. Sua dedicação à preservação da história e ao entendimento das civilizações passadas posiciona Kaelen em conflito com aqueles que buscam poder imediato, enfatizando seu papel como um defensor do saber em detrimento da ambição desmedida. Este compromisso com a erudição e a pesquisa se entrelaça com sua própria identidade, tornando a biblioteca não apenas um local, mas uma extensão de seus próprios valores e objetivos ao longo de sua vida[2][3].\n",
      "\n",
      "[0] Kaelen_Voss_Profile.pdf\n",
      "[1] Kaelen_Voss_Profile.pdf\n",
      "[2] Kaelen_Voss_Profile.pdf\n",
      "[3] Kaelen_Voss_Profile.pdf\n"
     ]
    }
   ],
   "source": [
    "# Função para substituir as anotações por números e adicionar as citações dos arquivos\n",
    "# Recebe uma mensagem e retorna o value da mensagem com as anotações substituídas\n",
    "def replace_annotations(mensagem):\n",
    "    anotacoes = mensagem.annotations\n",
    "    citacoes = []\n",
    "    \n",
    "    for index, anotacao in enumerate(anotacoes):\n",
    "        # Substitui o texto da anotação pelo índice\n",
    "        mensagem.value = mensagem.value.replace(anotacao.text, f'[{index}]')\n",
    "        \n",
    "        # Adiciona a citação do arquivo na lista de citações\n",
    "        # := --> (== && =)\n",
    "        # get attribute, se não existir, retorna None\n",
    "        if file_cit := getattr(anotacao, 'file_citation', None):\n",
    "            # Recupera o arquivo do ID\n",
    "            file = client.files.retrieve(file_cit.file_id)\n",
    "            # Adiciona o nome do arquivo na lista de citações\n",
    "            citacoes.append(f'[{index}] {file.filename}')\n",
    "    \n",
    "    # Junta as citações em uma única string separando por quebra de linha\n",
    "    citacoes = \"\\n\".join(citacoes)\n",
    "    \n",
    "    mensagem.value = f'{mensagem.value}\\n\\n{citacoes}'\n",
    "    return mensagem.value\n",
    "\n",
    "# Uso da função\n",
    "# .text tem não só os valores mas também as anotações\n",
    "mensagemSubstituida = replace_annotations(mensagens.data[0].content[0].text)\n",
    "print(mensagemSubstituida)\n"
   ]
  },
  {
   "attachments": {},
   "cell_type": "markdown",
   "id": "27e24b15",
   "metadata": {},
   "source": [
    "### Analisando os passos do modelo"
   ]
  },
  {
   "cell_type": "code",
   "execution_count": 11,
   "id": "b5596864",
   "metadata": {},
   "outputs": [],
   "source": [
    "run_steps = client.beta.threads.runs.steps.list(\n",
    "  thread_id=thread.id,\n",
    "  run_id=run.id\n",
    ")"
   ]
  },
  {
   "cell_type": "code",
   "execution_count": 12,
   "id": "f14a93b1",
   "metadata": {},
   "outputs": [
    {
     "name": "stdout",
     "output_type": "stream",
     "text": [
      "=== Step: tool_calls\n",
      "=== Step: message_creation\n"
     ]
    }
   ],
   "source": [
    "for step in run_steps.data[::-1]:\n",
    "    print('=== Step:', step.step_details.type)\n",
    "    "
   ]
  },
  {
   "cell_type": "code",
   "execution_count": 13,
   "id": "f2c8d5ea",
   "metadata": {},
   "outputs": [
    {
     "name": "stdout",
     "output_type": "stream",
     "text": [
      "\n",
      "=== Step: tool_calls\n",
      "FileSearchToolCall(id='call_H8nQ7sRaAMzOhD5LOz5Z9u8F', file_search=FileSearch(ranking_options=FileSearchRankingOptions(ranker='default_2024_08_21', score_threshold=0.0), results=[FileSearchResult(file_id='file-fYCsu6QCXW45Tbk78KzZTGrn', file_name='Kaelen_Voss_Profile.pdf', score=0.8520054832753634, content=None), FileSearchResult(file_id='file-fYCsu6QCXW45Tbk78KzZTGrn', file_name='Kaelen_Voss_Profile.pdf', score=0.8468517670715947, content=None), FileSearchResult(file_id='file-fYCsu6QCXW45Tbk78KzZTGrn', file_name='Kaelen_Voss_Profile.pdf', score=0.6919752931211046, content=None), FileSearchResult(file_id='file-fYCsu6QCXW45Tbk78KzZTGrn', file_name='Kaelen_Voss_Profile.pdf', score=0.4823597523050438, content=None), FileSearchResult(file_id='file-fYCsu6QCXW45Tbk78KzZTGrn', file_name='Kaelen_Voss_Profile.pdf', score=0.3279734074735006, content=None), FileSearchResult(file_id='file-fYCsu6QCXW45Tbk78KzZTGrn', file_name='Kaelen_Voss_Profile.pdf', score=0.19544936742738175, content=None)]), type='file_search')\n",
      "\n",
      "=== Step: message_creation\n",
      "A Biblioteca de Ildra desempenha um papel crucial na vida de Kaelen Voss, servindo como o centro de sua busca pelo conhecimento e preservação da história. Localizada na capital do Reino de Eriador, a biblioteca não é apenas um local de estudo, mas também simboliza a estrutura hierárquica da sociedade erudita em que Kaelen se destacou. Desde seus 15 anos, quando ele foi enviado para estudar sob a orientação de Talia Rhen, uma respeitada acadêmica, a biblioteca tornou-se seu lar e abrigo intelectual. Esse ambiente moldou sua curiosidade e paixão, permitindo que se tornasse um dos principais historiadores e conselheiros do rei, ao mesmo tempo em que desenvolvia uma vida de expedições e descobertas que almejavam desvendar os segredos de civilizações antigas[0][1].\n",
      "\n",
      "Além de ser um espaço físico de aprendizado, a Biblioteca de Ildra reflete a crença de Kaelen no valor do conhecimento como uma ferramenta essencial para a paz e a prosperidade em Eriador. Sua dedicação à preservação da história e ao entendimento das civilizações passadas posiciona Kaelen em conflito com aqueles que buscam poder imediato, enfatizando seu papel como um defensor do saber em detrimento da ambição desmedida. Este compromisso com a erudição e a pesquisa se entrelaça com sua própria identidade, tornando a biblioteca não apenas um local, mas uma extensão de seus próprios valores e objetivos ao longo de sua vida[2][3].\n",
      "\n",
      "[0] Kaelen_Voss_Profile.pdf\n",
      "[1] Kaelen_Voss_Profile.pdf\n",
      "[2] Kaelen_Voss_Profile.pdf\n",
      "[3] Kaelen_Voss_Profile.pdf\n"
     ]
    }
   ],
   "source": [
    "for step in run_steps.data[::-1]:\n",
    "    print('\\n=== Step:', step.step_details.type)\n",
    "    \n",
    "    if step.step_details.type == 'tool_calls':\n",
    "        for tool_call in step.step_details.tool_calls:\n",
    "            if tool_call.type == 'file_search':\n",
    "                print(tool_call)\n",
    "            else: # code_interpreter\n",
    "                print('-----')\n",
    "                print(tool_call.code_interpreter.input)\n",
    "                print('-----')\n",
    "    \n",
    "    if step.step_details.type == 'message_creation':\n",
    "        message = client.beta.threads.messages.retrieve(\n",
    "            thread_id=thread.id,\n",
    "            message_id=step.step_details.message_creation.message_id\n",
    "        )\n",
    "        print(replace_annotations(message.content[0].text))\n",
    "    "
   ]
  }
 ],
 "metadata": {
  "kernelspec": {
   "display_name": "Python 3",
   "language": "python",
   "name": "python3"
  },
  "language_info": {
   "codemirror_mode": {
    "name": "ipython",
    "version": 3
   },
   "file_extension": ".py",
   "mimetype": "text/x-python",
   "name": "python",
   "nbconvert_exporter": "python",
   "pygments_lexer": "ipython3",
   "version": "3.11.9"
  }
 },
 "nbformat": 4,
 "nbformat_minor": 5
}
