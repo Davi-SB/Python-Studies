{
 "cells": [
  {
   "cell_type": "code",
   "execution_count": 1,
   "id": "5242944f",
   "metadata": {},
   "outputs": [],
   "source": [
    "import openai\n",
    "from dotenv import load_dotenv, find_dotenv\n",
    "\n",
    "load_dotenv(find_dotenv())\n",
    "client = openai.Client()"
   ]
  },
  {
   "cell_type": "markdown",
   "id": "daaa65e4",
   "metadata": {},
   "source": [
    "### [Speech to text](https://platform.openai.com/docs/guides/speech-to-text)\n",
    "\n",
    "- File uploads are currently limited to 25 MB and the following input file types are supported: mp3, mp4, mpeg, mpga, m4a, wav, and webm."
   ]
  },
  {
   "cell_type": "code",
   "execution_count": 6,
   "id": "d1ea0e64",
   "metadata": {},
   "outputs": [
    {
     "name": "stdout",
     "output_type": "stream",
     "text": [
      "Eu acho que, na verdade, eu não sei o que dizer, mas é isso, vou passar a palavra para Szczęśniewski.\n",
      "\n"
     ]
    }
   ],
   "source": [
    "transcricao = client.audio.transcriptions.create(\n",
    "    model = 'whisper-1',\n",
    "    file = open('AudioGeradoDificil - Echo.mp3', 'rb'),\n",
    "    \n",
    "    ### not required:\n",
    "    # se não for definido, o modelo tentará detectar\n",
    "    language = 'pt', \n",
    "    \n",
    "    # se não for definido, o modelo retornará um JSON. \n",
    "    # outras opções são 'text' e 'srt' para legendas\n",
    "    response_format = 'text',\n",
    "    \n",
    "    # pode ser usado para fornecer contexto ao modelo e evitar erros\n",
    "    prompt = \"\"\"Transcreva o áudio para texto removendo as marcas de linguagem e sabendo que os nomes dos\n",
    "    professores Mlwati, Dziedzic, Szczęśniewski e Echevarría podem estar envolvidos na fala\"\"\"\n",
    ")\n",
    "\n",
    "print(transcricao)"
   ]
  },
  {
   "cell_type": "code",
   "execution_count": 8,
   "id": "a0cffbd7",
   "metadata": {},
   "outputs": [
    {
     "name": "stdout",
     "output_type": "stream",
     "text": [
      "Transcription(text='Oi, esse é um teste de conversão de texto em fala. Se liga nesse trava-língua. Casa suja, chão sujo, casa suja, chão sujo, casa suja, chão sujo. E você, tem algum trava-língua para me contar?')\n",
      "\n",
      "Oi, esse é um teste de conversão de texto em fala. Se liga nesse trava-língua. Casa suja, chão sujo, casa suja, chão sujo, casa suja, chão sujo. E você, tem algum trava-língua para me contar?\n"
     ]
    }
   ],
   "source": [
    "transcricao = client.audio.transcriptions.create(\n",
    "    model='whisper-1',\n",
    "    file = open('AudioGerado - Onyx.mp3', 'rb')\n",
    ")\n",
    "\n",
    "print(transcricao, end='\\n\\n')\n",
    "print(transcricao.text)"
   ]
  },
  {
   "cell_type": "markdown",
   "id": "45b43b2f",
   "metadata": {},
   "source": [
    "### Tradução\n",
    " Apenas disponível de qualquer língua suportada para o inglês"
   ]
  },
  {
   "cell_type": "code",
   "execution_count": null,
   "id": "7c8d61f6",
   "metadata": {},
   "outputs": [
    {
     "name": "stdout",
     "output_type": "stream",
     "text": [
      "Hi, this is a speech-to-text conversation test. Check out this tongue twister. Dirty house, dirty floor, dirty house, dirty floor, dirty house, dirty floor. And you? Do you have a tongue twister to tell me?\n",
      "\n"
     ]
    }
   ],
   "source": [
    "traducao = client.audio.translations.create(\n",
    "    model = 'whisper-1',\n",
    "    file = open('AudioGerado - Shimmer.mp3', 'rb'),\n",
    ")\n",
    "\n",
    "print(traducao.text, end='\\n\\n')"
   ]
  },
  {
   "cell_type": "markdown",
   "id": "afaaae09",
   "metadata": {},
   "source": [
    "### .srt para exportar com formato para legendas"
   ]
  },
  {
   "cell_type": "code",
   "execution_count": 10,
   "id": "46fcb840",
   "metadata": {},
   "outputs": [
    {
     "name": "stdout",
     "output_type": "stream",
     "text": [
      "1\n",
      "00:00:00,000 --> 00:00:02,600\n",
      "Oi, esse é um teste de conversão de texto em fala.\n",
      "\n",
      "2\n",
      "00:00:02,600 --> 00:00:04,400\n",
      "Se liga nesse trava-língua.\n",
      "\n",
      "3\n",
      "00:00:04,400 --> 00:00:08,960\n",
      "Casa suja, chão sujo, casa suja, chão sujo, casa suja, chão sujo.\n",
      "\n",
      "4\n",
      "00:00:08,960 --> 00:00:09,960\n",
      "E você?\n",
      "\n",
      "5\n",
      "00:00:09,960 --> 00:00:11,200\n",
      "Tem algum trava-língua pra me contar?\n",
      "\n",
      "\n",
      "\n",
      "\n"
     ]
    }
   ],
   "source": [
    "transcricao = client.audio.transcriptions.create(\n",
    "    model = 'whisper-1',\n",
    "    file = open('AudioGerado - Shimmer.mp3', 'rb'),\n",
    "    response_format='srt'\n",
    ")\n",
    "\n",
    "print(transcricao, end='\\n\\n')"
   ]
  }
 ],
 "metadata": {
  "kernelspec": {
   "display_name": "Python 3",
   "language": "python",
   "name": "python3"
  },
  "language_info": {
   "codemirror_mode": {
    "name": "ipython",
    "version": 3
   },
   "file_extension": ".py",
   "mimetype": "text/x-python",
   "name": "python",
   "nbconvert_exporter": "python",
   "pygments_lexer": "ipython3",
   "version": "3.11.9"
  }
 },
 "nbformat": 4,
 "nbformat_minor": 5
}
