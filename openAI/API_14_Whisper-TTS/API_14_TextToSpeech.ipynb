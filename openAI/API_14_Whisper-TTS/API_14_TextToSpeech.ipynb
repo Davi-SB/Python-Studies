{
 "cells": [
  {
   "cell_type": "code",
   "execution_count": 2,
   "id": "5242944f",
   "metadata": {},
   "outputs": [],
   "source": [
    "import openai\n",
    "from dotenv import load_dotenv, find_dotenv\n",
    "\n",
    "load_dotenv(find_dotenv())\n",
    "client = openai.Client()"
   ]
  },
  {
   "cell_type": "markdown",
   "id": "f5cabc86",
   "metadata": {},
   "source": [
    "### [Text to speech](https://platform.openai.com/docs/guides/text-to-speech)"
   ]
  },
  {
   "cell_type": "code",
   "execution_count": 2,
   "id": "90ec733e",
   "metadata": {},
   "outputs": [],
   "source": [
    "text = \"\"\" Oi! esse é um teste de conversão de texto em fala. Se liga nesse trava língua: casa suja, \n",
    "chão sujo, casa suja, chão sujo, casa suja, chão sujo. E você? tem algum \n",
    "trava língua para me contar?\"\"\"\n",
    "\n",
    "resposta = client.audio.speech.create(\n",
    "    model = 'tts-1',\n",
    "    voice = 'onyx',\n",
    "    input = text\n",
    ")\n",
    "\n",
    "resposta.write_to_file(\"AudioGerado - Onyx.mp3\")"
   ]
  },
  {
   "cell_type": "code",
   "execution_count": 3,
   "id": "1c2670a9",
   "metadata": {},
   "outputs": [],
   "source": [
    "with client.audio.speech.with_streaming_response.create(\n",
    "    model = 'tts-1',\n",
    "    voice = 'shimmer',\n",
    "    input = text\n",
    ") as resposta:\n",
    "    resposta.stream_to_file(\"AudioGerado - Shimmer.mp3\")"
   ]
  },
  {
   "cell_type": "markdown",
   "id": "40273aa7",
   "metadata": {},
   "source": [
    "The default response format is \"mp3\", but other formats like \"opus\", \"aac\", \"flac\", and \"pcm\" are available."
   ]
  },
  {
   "cell_type": "code",
   "execution_count": null,
   "id": "278e5aea",
   "metadata": {},
   "outputs": [],
   "source": [
    "resposta = client.audio.speech.create(\n",
    "    model = 'tts-1',\n",
    "    voice = 'echo',\n",
    "    # O texto abaixo é um exemplo mais complicado para reconhecimento de fala\n",
    "    input = \"\"\"Eu acho que... é... hm.. na verdad-de eu não sei o que dizer, mas... é isso, \n",
    "    Vou passar a palavra para Szczęśniewski\"\"\"\n",
    ")\n",
    "\n",
    "resposta.write_to_file(\"AudioGeradoDificil - Echo.mp3\")"
   ]
  }
 ],
 "metadata": {
  "kernelspec": {
   "display_name": "Python 3",
   "language": "python",
   "name": "python3"
  },
  "language_info": {
   "codemirror_mode": {
    "name": "ipython",
    "version": 3
   },
   "file_extension": ".py",
   "mimetype": "text/x-python",
   "name": "python",
   "nbconvert_exporter": "python",
   "pygments_lexer": "ipython3",
   "version": "3.11.9"
  }
 },
 "nbformat": 4,
 "nbformat_minor": 5
}
