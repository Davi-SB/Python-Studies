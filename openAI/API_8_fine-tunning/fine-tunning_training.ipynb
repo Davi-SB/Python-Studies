{
 "cells": [
  {
   "cell_type": "code",
   "execution_count": 1,
   "metadata": {},
   "outputs": [],
   "source": [
    "import openai\n",
    "from dotenv import load_dotenv, find_dotenv\n",
    "\n",
    "load_dotenv(find_dotenv())\n",
    "client = openai.Client()"
   ]
  },
  {
   "cell_type": "code",
   "execution_count": 4,
   "metadata": {},
   "outputs": [],
   "source": [
    "def generate_response(chat, model='gpt-4o-mini', temperature=0, max_tokens=1000, stream = False):\n",
    "    return client.chat.completions.create(\n",
    "        messages = chat,\n",
    "        model = model,\n",
    "        temperature = temperature,\n",
    "        max_tokens= max_tokens,\n",
    "        stream = stream\n",
    "    )\n",
    "\n",
    "def export_chat(chat):\n",
    "    with open('chat.md', 'w', encoding='utf-8') as file:\n",
    "        for message in chat:\n",
    "            file.write(f\"{message['role']}: {message['content']}\\n\\n\")"
   ]
  },
  {
   "cell_type": "markdown",
   "metadata": {},
   "source": [
    "https://platform.openai.com/finetune para verificar os fine tunes"
   ]
  },
  {
   "cell_type": "code",
   "execution_count": 3,
   "metadata": {},
   "outputs": [
    {
     "data": {
      "text/plain": [
       "FineTuningJob(id='ftjob-QrrQlq6T0TJeLeqU9EVpzrrN', created_at=1729803738, error=Error(code=None, message=None, param=None), fine_tuned_model=None, finished_at=None, hyperparameters=Hyperparameters(n_epochs='auto', batch_size='auto', learning_rate_multiplier='auto'), model='gpt-4o-mini-2024-07-18', object='fine_tuning.job', organization_id='org-XI5TIJyDPYYNIlEIYH0Z3SH5', result_files=[], seed=1146178368, status='validating_files', trained_tokens=None, training_file='file-982Hw8jbfqh89Ru9rgRbKP73', validation_file=None, estimated_finish=None, integrations=[], user_provided_suffix=None)"
      ]
     },
     "execution_count": 3,
     "metadata": {},
     "output_type": "execute_result"
    }
   ],
   "source": [
    "file = client.files.create(\n",
    "    # rb --> read binary\n",
    "    file = open(\"answeredQuestions.jsonl\", \"rb\"),\n",
    "    purpose = \"fine-tune\"\n",
    ")\n",
    "\n",
    "# NAO RODAR DE NOVO\n",
    "# client.fine_tuning.jobs.create(\n",
    "#     training_file = file.id,\n",
    "#     model = \"gpt-4o-mini-2024-07-18\"\n",
    "# )"
   ]
  },
  {
   "cell_type": "markdown",
   "metadata": {},
   "source": [
    "input: Que barulho foi esse? Você ouviu? Melhor ficar atento"
   ]
  },
  {
   "cell_type": "code",
   "execution_count": 7,
   "metadata": {},
   "outputs": [
    {
     "name": "stdout",
     "output_type": "stream",
     "text": [
      "\n",
      "Default: Parece que algo chamou sua atenção! Às vezes, barulhos inesperados podem ser intrigantes ou até um pouco assustadores. É sempre bom ficar atento e verificar o que está acontecendo ao seu redor. Se precisar de ajuda ou quiser conversar sobre o que ouviu, estou aqui!\n",
      "Fine-tuned: Eu ouvi, sim! Foi quase como... um grunhido? Ou talvez um estalo? Pode ser um monstro nos observando. Estou realmente começando a ficar assustado!\n",
      "\n"
     ]
    }
   ],
   "source": [
    "chat_default = []\n",
    "model_default = \"gpt-4o-mini-2024-07-18\"\n",
    "\n",
    "chat_fine_tuned = []\n",
    "model_fine_tuned = \"ft:gpt-4o-mini-2024-07-18:personal::ALzPu9it\"\n",
    "\n",
    "line = ''\n",
    "while True:\n",
    "    line = input('\\nYou: ')\n",
    "    if line.upper() == 'STOP': break\n",
    "    if not line: continue\n",
    "    \n",
    "    # adiciona pergunta aos chats\n",
    "    chat_default.append({'role': 'user', 'content': line})\n",
    "    chat_fine_tuned.append({'role': 'user', 'content': line})\n",
    "    \n",
    "    # gera resposta\n",
    "    response_default     = generate_response(chat_default,    model = model_default,    temperature = 0.0)\n",
    "    ressponse_fine_tuned = generate_response(chat_fine_tuned, model = model_fine_tuned, temperature = 1.3)\n",
    "    \n",
    "    # printa resposta\n",
    "    message_default    = response_default.choices[0].message\n",
    "    message_fine_tuned = ressponse_fine_tuned.choices[0].message\n",
    "    \n",
    "    print(f\"\\nDefault: {message_default.content}\")\n",
    "    print(f\"Fine-tuned: {message_fine_tuned.content}\", end='\\n\\n')\n",
    "    \n",
    "    # adiciona resposta ao chat \n",
    "    chat_default.append(message_default.model_dump(exclude_none = True))\n",
    "    chat_fine_tuned.append(message_fine_tuned.model_dump(exclude_none = True))"
   ]
  }
 ],
 "metadata": {
  "kernelspec": {
   "display_name": "Python 3",
   "language": "python",
   "name": "python3"
  },
  "language_info": {
   "codemirror_mode": {
    "name": "ipython",
    "version": 3
   },
   "file_extension": ".py",
   "mimetype": "text/x-python",
   "name": "python",
   "nbconvert_exporter": "python",
   "pygments_lexer": "ipython3",
   "version": "3.11.9"
  }
 },
 "nbformat": 4,
 "nbformat_minor": 2
}
