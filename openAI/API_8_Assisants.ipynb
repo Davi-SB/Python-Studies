{
 "cells": [
  {
   "cell_type": "code",
   "execution_count": 1,
   "id": "0b0a7bea",
   "metadata": {},
   "outputs": [],
   "source": [
    "import openai\n",
    "from dotenv import load_dotenv, find_dotenv\n",
    "\n",
    "load_dotenv(find_dotenv())\n",
    "client = openai.Client()"
   ]
  },
  {
   "attachments": {},
   "cell_type": "markdown",
   "id": "d748127d",
   "metadata": {},
   "source": [
    "### Cria o [assistant](https://platform.openai.com/docs/assistants/overview/agents)\n",
    "- .beta vai ser provavelmente removido após sair do beta\n",
    "- Opções para [tools](https://platform.openai.com/docs/assistants/tools/assistant-tools): Code Interpreter, File Search e Function calling"
   ]
  },
  {
   "cell_type": "code",
   "execution_count": 2,
   "id": "b8385a71",
   "metadata": {},
   "outputs": [],
   "source": [
    "mathAssistant = client.beta.assistants.create(\n",
    "    name = \"Tutor de Matemática\",\n",
    "    instructions = 'Você é um tutor pessoal de matemática de um aluno da faculdade. Escreva e execute códigos para responder as perguntas de matemática, cálculo e física que receber.',\n",
    "    tools = [{'type': 'code_interpreter'}],\n",
    "    model = 'gpt-4o-mini'\n",
    ")"
   ]
  },
  {
   "attachments": {},
   "cell_type": "markdown",
   "id": "ef03a019",
   "metadata": {},
   "source": [
    "### Cria uma thread\n",
    "- Threads simplificam odesenvolvimento deaplicações de IA ao armazenar o histórico de mensagens e truncá-lo quando a conversa fica muito longa para o comprimento do contexto do modelo\n",
    "- Você cria uma thread uma vez e simplesmente adiciona mensagens a ela conforme o usuário responde"
   ]
  },
  {
   "cell_type": "code",
   "execution_count": 3,
   "id": "6e564600",
   "metadata": {},
   "outputs": [
    {
     "name": "stdout",
     "output_type": "stream",
     "text": [
      "Thread(id='thread_IPbcn566aKv6J5dQpP7afcds', created_at=1730179006, metadata={}, object='thread', tool_resources=ToolResources(code_interpreter=None, file_search=None))\n"
     ]
    }
   ],
   "source": [
    "myThread = client.beta.threads.create()\n",
    "print(myThread)"
   ]
  },
  {
   "attachments": {},
   "cell_type": "markdown",
   "id": "2dd2acc5",
   "metadata": {},
   "source": [
    "### Adiciona a mensagem em myThread\n",
    "- Até agora, a thread e o assistente não têm nenhuma relação, não estão associados"
   ]
  },
  {
   "cell_type": "code",
   "execution_count": 4,
   "id": "4ba988f8",
   "metadata": {},
   "outputs": [
    {
     "name": "stdout",
     "output_type": "stream",
     "text": [
      "Message(id='msg_6hrBSsAGROjmSZBaebiVT8nP', assistant_id=None, attachments=[], completed_at=None, content=[TextContentBlock(text=Text(annotations=[], value='De quantas maneiras é possível embaralhar 12 cartas de baralho? Resolva com um código'), type='text')], created_at=1730179007, incomplete_at=None, incomplete_details=None, metadata={}, object='thread.message', role='user', run_id=None, status=None, thread_id='thread_IPbcn566aKv6J5dQpP7afcds')\n"
     ]
    }
   ],
   "source": [
    "message = client.beta.threads.messages.create( # cria uma mensagem\n",
    "    thread_id = myThread.id, # na thread especificada\n",
    "    role = 'user',\n",
    "    # content = 'Se eu jogar um dado honesto 1000 vezes, qual é a probabilidade de eu obter exatamente 150 vezes o número 6? Resolva com um código'\n",
    "    content = 'De quantas maneiras é possível embaralhar 12 cartas de baralho? Resolva com um código'\n",
    ")\n",
    "print(message)"
   ]
  },
  {
   "attachments": {},
   "cell_type": "markdown",
   "id": "db10a63b",
   "metadata": {},
   "source": [
    "### Roda a thread no assistant\n",
    "- Aqui sim a thread e o assistente se relacionam: o assistant processa a thread e gera uma resposta"
   ]
  },
  {
   "cell_type": "code",
   "execution_count": 5,
   "id": "ab3e750e",
   "metadata": {},
   "outputs": [
    {
     "name": "stdout",
     "output_type": "stream",
     "text": [
      "Run(id='run_2Jv1qpi5mzwyTluEom1MOEWN', assistant_id='asst_kMIlRGLdUWWQmcrYywTwGGu8', cancelled_at=None, completed_at=None, created_at=1730179007, expires_at=1730179607, failed_at=None, incomplete_details=None, instructions='O nome do usuário é Davi Brilhante e ele está no terceiro período da faculdade de Engenharia da Computação.', last_error=None, max_completion_tokens=None, max_prompt_tokens=None, metadata={}, model='gpt-4o-mini', object='thread.run', required_action=None, response_format='auto', started_at=None, status='queued', thread_id='thread_IPbcn566aKv6J5dQpP7afcds', tool_choice='auto', tools=[CodeInterpreterTool(type='code_interpreter')], truncation_strategy=TruncationStrategy(type='auto', last_messages=None), usage=None, temperature=1.0, top_p=1.0, tool_resources={}, parallel_tool_calls=True)\n"
     ]
    }
   ],
   "source": [
    "run = client.beta.threads.runs.create(\n",
    "    thread_id = myThread.id,\n",
    "    assistant_id = mathAssistant.id,\n",
    "    instructions = 'O nome do usuário é Davi Brilhante e ele está no terceiro período da faculdade de Engenharia da Computação.'\n",
    ")\n",
    "print(run)"
   ]
  },
  {
   "attachments": {},
   "cell_type": "markdown",
   "id": "7b71e5ba",
   "metadata": {},
   "source": [
    "### Aguarda a run terminar\n",
    "- [estados que uma run pode assumir](https://platform.openai.com/docs/assistants/deep-dive/run-lifecycle)"
   ]
  },
  {
   "cell_type": "code",
   "execution_count": 6,
   "id": "cc04b39a",
   "metadata": {},
   "outputs": [
    {
     "name": "stdout",
     "output_type": "stream",
     "text": [
      "in_progress\n",
      "in_progress\n",
      "in_progress\n",
      "in_progress\n",
      "in_progress\n",
      "in_progress\n",
      "in_progress\n",
      "in_progress\n",
      "in_progress\n",
      "completed\n"
     ]
    }
   ],
   "source": [
    "while run.status in ['queued', 'in_progress', 'cancelling']:\n",
    "    run = client.beta.threads.runs.retrieve( # recupera os dados da run \n",
    "        thread_id = myThread.id, # na thread especificada\n",
    "        run_id = run.id # especifica qual run recuperar os dados\n",
    "    )\n",
    "    print(run.status)\n"
   ]
  },
  {
   "attachments": {},
   "cell_type": "markdown",
   "id": "f2b0bf80",
   "metadata": {},
   "source": [
    "### Verifica a resposta"
   ]
  },
  {
   "cell_type": "code",
   "execution_count": 7,
   "id": "6fa5456c",
   "metadata": {},
   "outputs": [
    {
     "name": "stdout",
     "output_type": "stream",
     "text": [
      "SyncCursorPage[Message](data=[Message(id='msg_Z918Vp5hQqYYP0ua0b7U0jKq', assistant_id='asst_kMIlRGLdUWWQmcrYywTwGGu8', attachments=[], completed_at=None, content=[TextContentBlock(text=Text(annotations=[], value='É possível embaralhar 12 cartas de baralho de **479.001.600** maneiras diferentes.'), type='text')], created_at=1730179010, incomplete_at=None, incomplete_details=None, metadata={}, object='thread.message', role='assistant', run_id='run_2Jv1qpi5mzwyTluEom1MOEWN', status=None, thread_id='thread_IPbcn566aKv6J5dQpP7afcds'), Message(id='msg_6hrBSsAGROjmSZBaebiVT8nP', assistant_id=None, attachments=[], completed_at=None, content=[TextContentBlock(text=Text(annotations=[], value='De quantas maneiras é possível embaralhar 12 cartas de baralho? Resolva com um código'), type='text')], created_at=1730179007, incomplete_at=None, incomplete_details=None, metadata={}, object='thread.message', role='user', run_id=None, status=None, thread_id='thread_IPbcn566aKv6J5dQpP7afcds')], object='list', first_id='msg_Z918Vp5hQqYYP0ua0b7U0jKq', last_id='msg_6hrBSsAGROjmSZBaebiVT8nP', has_more=False)\n"
     ]
    }
   ],
   "source": [
    "if run.status == 'completed':\n",
    "    mensagens = client.beta.threads.messages.list(\n",
    "        thread_id = myThread.id\n",
    "    )\n",
    "    print(mensagens)\n",
    "else:\n",
    "    print('Erro:', run.status)"
   ]
  },
  {
   "cell_type": "markdown",
   "id": "45838d51",
   "metadata": {},
   "source": [
    "### Acesso de mensagens\n",
    "- As mensagens novas são adicionadas como um push_front()\n",
    "    - Menor índice --> mais recente\n",
    "    - Exibir de trás pra frente --> ordem cronológica"
   ]
  },
  {
   "cell_type": "code",
   "execution_count": 8,
   "id": "3f9d818b",
   "metadata": {},
   "outputs": [
    {
     "name": "stdout",
     "output_type": "stream",
     "text": [
      "É possível embaralhar 12 cartas de baralho de **479.001.600** maneiras diferentes.\n",
      "\n",
      "[1] user: De quantas maneiras é possível embaralhar 12 cartas de baralho? Resolva com um código\n",
      "[0] assistant: É possível embaralhar 12 cartas de baralho de **479.001.600** maneiras diferentes.\n",
      "\n",
      "    user: De quantas maneiras é possível embaralhar 12 cartas de baralho? Resolva com um código\n",
      "    assistant: É possível embaralhar 12 cartas de baralho de **479.001.600** maneiras diferentes.\n"
     ]
    }
   ],
   "source": [
    "print(mensagens.data[0].content[0].text.value, end='\\n\\n')\n",
    "\n",
    "for i in range(len(mensagens.data)-1, -1, -1):\n",
    "    role    = mensagens.data[i].role\n",
    "    content = mensagens.data[i].content[0].text.value\n",
    "    print(f'[{i}] {role}: {content}')\n",
    "    \n",
    "print()\n",
    "\n",
    "for mensagem in mensagens.data[::-1]:\n",
    "    role    = mensagem.role\n",
    "    content = mensagem.content[0].text.value\n",
    "    print(f'    {role}: {content}')"
   ]
  },
  {
   "attachments": {},
   "cell_type": "markdown",
   "id": "27e24b15",
   "metadata": {},
   "source": [
    "### Analisando os passos do modelo"
   ]
  },
  {
   "cell_type": "code",
   "execution_count": 9,
   "id": "b5596864",
   "metadata": {},
   "outputs": [],
   "source": [
    "run_steps = client.beta.threads.runs.steps.list(\n",
    "  thread_id = myThread.id,\n",
    "  run_id = run.id\n",
    ")"
   ]
  },
  {
   "cell_type": "markdown",
   "id": "a0edf8e1",
   "metadata": {},
   "source": [
    "- Printar a lista de trás pra frente pelo mesmo motivo que as mensagens"
   ]
  },
  {
   "cell_type": "code",
   "execution_count": 10,
   "id": "f2c8d5ea",
   "metadata": {},
   "outputs": [
    {
     "name": "stdout",
     "output_type": "stream",
     "text": [
      "=== Step: tool_calls\n",
      "=== Step: message_creation\n"
     ]
    }
   ],
   "source": [
    "for step in run_steps.data[::-1]:\n",
    "    print('=== Step:', step.step_details.type)\n",
    "    "
   ]
  },
  {
   "cell_type": "code",
   "execution_count": 11,
   "id": "a9d12eb2",
   "metadata": {},
   "outputs": [
    {
     "name": "stdout",
     "output_type": "stream",
     "text": [
      "ToolCallsStepDetails(tool_calls=[CodeInterpreterToolCall(id='call_J73yv8CtcTxwCmVR27XCR1Td', code_interpreter=CodeInterpreter(input='import math\\r\\n\\r\\n# Número de maneiras de embaralhar 12 cartas\\r\\nnum_cartas = 12\\r\\nmanner_ways = math.factorial(num_cartas)\\r\\nmanner_ways', outputs=[]), type='code_interpreter')], type='tool_calls')\n",
      "\n",
      "CodeInterpreterToolCall(id='call_J73yv8CtcTxwCmVR27XCR1Td', code_interpreter=CodeInterpreter(input='import math\\r\\n\\r\\n# Número de maneiras de embaralhar 12 cartas\\r\\nnum_cartas = 12\\r\\nmanner_ways = math.factorial(num_cartas)\\r\\nmanner_ways', outputs=[]), type='code_interpreter')\n"
     ]
    }
   ],
   "source": [
    "print(run_steps.data[1].step_details, end='\\n\\n')\n",
    "\n",
    "for tool_call in run_steps.data[1].step_details.tool_calls:\n",
    "    print(tool_call)"
   ]
  },
  {
   "cell_type": "code",
   "execution_count": 13,
   "id": "31ed0a3a",
   "metadata": {},
   "outputs": [
    {
     "name": "stdout",
     "output_type": "stream",
     "text": [
      "=== Step: tool_calls\n",
      "-----\n",
      "import math\n",
      "\n",
      "# Número de maneiras de embaralhar 12 cartas\n",
      "num_cartas = 12\n",
      "manner_ways = math.factorial(num_cartas)\n",
      "manner_ways\n",
      "-----\n",
      "Result\n",
      "=== Step: message_creation\n",
      "É possível embaralhar 12 cartas de baralho de **479.001.600** maneiras diferentes.\n"
     ]
    }
   ],
   "source": [
    "for step in run_steps.data[::-1]:\n",
    "    print('=== Step:', step.step_details.type)\n",
    "    \n",
    "    if step.step_details.type == 'tool_calls':\n",
    "            for tool_call in step.step_details.tool_calls:\n",
    "                print('-----')\n",
    "                print(tool_call.code_interpreter.input)\n",
    "                print('-----')\n",
    "                print('Result')\n",
    "                # não consegui fazer funcionar, algo mudou\n",
    "                # print(tool_call.code_interpreter.outputs[0].logs)\n",
    "                \n",
    "    if step.step_details.type == 'message_creation':\n",
    "        message = client.beta.threads.messages.retrieve(\n",
    "            thread_id  = myThread.id,\n",
    "            message_id = step.step_details.message_creation.message_id\n",
    "        )\n",
    "        print(message.content[0].text.value)"
   ]
  }
 ],
 "metadata": {
  "kernelspec": {
   "display_name": "Python 3",
   "language": "python",
   "name": "python3"
  },
  "language_info": {
   "codemirror_mode": {
    "name": "ipython",
    "version": 3
   },
   "file_extension": ".py",
   "mimetype": "text/x-python",
   "name": "python",
   "nbconvert_exporter": "python",
   "pygments_lexer": "ipython3",
   "version": "3.11.9"
  }
 },
 "nbformat": 4,
 "nbformat_minor": 5
}
