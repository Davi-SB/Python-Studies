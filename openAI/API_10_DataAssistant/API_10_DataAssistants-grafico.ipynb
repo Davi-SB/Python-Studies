{
 "cells": [
  {
   "cell_type": "code",
   "execution_count": 1,
   "id": "0b0a7bea",
   "metadata": {},
   "outputs": [],
   "source": [
    "import openai\n",
    "from dotenv import load_dotenv, find_dotenv\n",
    "\n",
    "load_dotenv(find_dotenv())\n",
    "client = openai.Client()"
   ]
  },
  {
   "cell_type": "code",
   "execution_count": 2,
   "id": "1473a674",
   "metadata": {},
   "outputs": [
    {
     "data": {
      "text/html": [
       "<div>\n",
       "<style scoped>\n",
       "    .dataframe tbody tr th:only-of-type {\n",
       "        vertical-align: middle;\n",
       "    }\n",
       "\n",
       "    .dataframe tbody tr th {\n",
       "        vertical-align: top;\n",
       "    }\n",
       "\n",
       "    .dataframe thead th {\n",
       "        text-align: right;\n",
       "    }\n",
       "</style>\n",
       "<table border=\"1\" class=\"dataframe\">\n",
       "  <thead>\n",
       "    <tr style=\"text-align: right;\">\n",
       "      <th></th>\n",
       "      <th>url</th>\n",
       "      <th>title</th>\n",
       "      <th>type</th>\n",
       "      <th>genres</th>\n",
       "      <th>releaseYear</th>\n",
       "      <th>imdbId</th>\n",
       "      <th>imdbAverageRating</th>\n",
       "      <th>imdbNumVotes</th>\n",
       "      <th>availableCountries</th>\n",
       "    </tr>\n",
       "  </thead>\n",
       "  <tbody>\n",
       "    <tr>\n",
       "      <th>0</th>\n",
       "      <td>https://www.netflix.com/title/60000724</td>\n",
       "      <td>Forrest Gump</td>\n",
       "      <td>Movie</td>\n",
       "      <td>Drama, Romance</td>\n",
       "      <td>1994.0</td>\n",
       "      <td>tt0109830</td>\n",
       "      <td>8.8</td>\n",
       "      <td>2311997.0</td>\n",
       "      <td>AD, AE, AG, AL, AO, AR, AT, AU, BA, BB, BE, BG...</td>\n",
       "    </tr>\n",
       "    <tr>\n",
       "      <th>1</th>\n",
       "      <td>https://www.netflix.com/title/1154386</td>\n",
       "      <td>The Fifth Element</td>\n",
       "      <td>Movie</td>\n",
       "      <td>Action, Adventure, Sci-Fi</td>\n",
       "      <td>1997.0</td>\n",
       "      <td>tt0119116</td>\n",
       "      <td>7.6</td>\n",
       "      <td>516291.0</td>\n",
       "      <td>AT, CH, DE</td>\n",
       "    </tr>\n",
       "    <tr>\n",
       "      <th>2</th>\n",
       "      <td>https://www.netflix.com/title/60031236</td>\n",
       "      <td>Kill Bill: Vol. 1</td>\n",
       "      <td>Movie</td>\n",
       "      <td>Action, Crime, Thriller</td>\n",
       "      <td>2003.0</td>\n",
       "      <td>tt0266697</td>\n",
       "      <td>8.2</td>\n",
       "      <td>1219973.0</td>\n",
       "      <td>AE, AL, AO, AT, AU, AZ, BG, BH, BY, CA, CI, CM...</td>\n",
       "    </tr>\n",
       "  </tbody>\n",
       "</table>\n",
       "</div>"
      ],
      "text/plain": [
       "                                      url              title   type  \\\n",
       "0  https://www.netflix.com/title/60000724       Forrest Gump  Movie   \n",
       "1   https://www.netflix.com/title/1154386  The Fifth Element  Movie   \n",
       "2  https://www.netflix.com/title/60031236  Kill Bill: Vol. 1  Movie   \n",
       "\n",
       "                      genres  releaseYear     imdbId  imdbAverageRating  \\\n",
       "0             Drama, Romance       1994.0  tt0109830                8.8   \n",
       "1  Action, Adventure, Sci-Fi       1997.0  tt0119116                7.6   \n",
       "2    Action, Crime, Thriller       2003.0  tt0266697                8.2   \n",
       "\n",
       "   imdbNumVotes                                 availableCountries  \n",
       "0     2311997.0  AD, AE, AG, AL, AO, AR, AT, AU, BA, BB, BE, BG...  \n",
       "1      516291.0                                         AT, CH, DE  \n",
       "2     1219973.0  AE, AL, AO, AT, AU, AZ, BG, BH, BY, CA, CI, CM...  "
      ]
     },
     "execution_count": 2,
     "metadata": {},
     "output_type": "execute_result"
    }
   ],
   "source": [
    "import pandas as pd\n",
    "\n",
    "dataset = pd.read_csv('full_netflix_dataset.csv')\n",
    "dataset.head(3)"
   ]
  },
  {
   "cell_type": "markdown",
   "id": "103ee758",
   "metadata": {},
   "source": [
    "### Cria o arquivo para ser enviado"
   ]
  },
  {
   "cell_type": "code",
   "execution_count": 3,
   "id": "4f06f696",
   "metadata": {},
   "outputs": [
    {
     "name": "stdout",
     "output_type": "stream",
     "text": [
      "FileObject(id='file-qVAixgzYXD7My4pwiUZdZfSB', bytes=3462237, created_at=1730270099, filename='full_netflix_dataset.csv', object='file', purpose='assistants', status='processed', status_details=None)\n"
     ]
    }
   ],
   "source": [
    "file = client.files.create(\n",
    "    file    = open('full_netflix_dataset.csv', 'rb'),\n",
    "    purpose = 'assistants'\n",
    ")\n",
    "print(file)"
   ]
  },
  {
   "attachments": {},
   "cell_type": "markdown",
   "id": "d748127d",
   "metadata": {},
   "source": [
    "### Cria o [assistant](https://platform.openai.com/docs/assistants/overview/agents)\n",
    "- `tool_resources` recebe os ids dos arquivos"
   ]
  },
  {
   "cell_type": "code",
   "execution_count": 4,
   "id": "b8385a71",
   "metadata": {},
   "outputs": [],
   "source": [
    "DataAssistant = client.beta.assistants.create(\n",
    "    name = \"Engenheiro de Dados\",\n",
    "    instructions = 'Você é um Engenheiro de Dados que trabalha para a Netflix. Você recebeu o arquivo .CSV full_netflix_dataset.csv com informações importantes sobre o catálogo da Netflix. Sua tarefa é analisar o arquivo e responder as perguntas sobre os dados.',\n",
    "    tools = [{'type': 'code_interpreter'}],\n",
    "    tool_resources = {'code_interpreter': \n",
    "                        {'file_ids': \n",
    "                            [file.id]\n",
    "                        }\n",
    "                     },\n",
    "    model = 'gpt-4o-mini'\n",
    ")"
   ]
  },
  {
   "attachments": {},
   "cell_type": "markdown",
   "id": "2dd2acc5",
   "metadata": {},
   "source": [
    "### Cria e adiciona a mensagem em myThread"
   ]
  },
  {
   "cell_type": "code",
   "execution_count": 5,
   "id": "4ba988f8",
   "metadata": {},
   "outputs": [
    {
     "name": "stdout",
     "output_type": "stream",
     "text": [
      "Thread(id='thread_e3pRp0SuEidXflfJPSCDsNvb', created_at=1730270101, metadata={}, object='thread', tool_resources=ToolResources(code_interpreter=None, file_search=None))\n",
      "\n",
      "Message(id='msg_5GThn163DKzQxjX1EWBeov2u', assistant_id=None, attachments=[], completed_at=None, content=[TextContentBlock(text=Text(annotations=[], value='Gere um gráfico com o ano de lançamento dos filmes do catálogo da Netflix no eixo x e a quantidade de filmes lançados no eixo y. Considere apenas os filmes que foram lançados entre 2000 e 2024 e que estão disponíveis no Brasil.'), type='text')], created_at=1730270101, incomplete_at=None, incomplete_details=None, metadata={}, object='thread.message', role='user', run_id=None, status=None, thread_id='thread_e3pRp0SuEidXflfJPSCDsNvb')\n"
     ]
    }
   ],
   "source": [
    "myThread = client.beta.threads.create()\n",
    "print(myThread, end='\\n\\n')\n",
    "\n",
    "message = client.beta.threads.messages.create( # cria uma mensagem\n",
    "    thread_id = myThread.id, # na thread especificada\n",
    "    role = 'user',\n",
    "    content = 'Gere um gráfico com o ano de lançamento dos filmes do catálogo da Netflix no eixo x e a quantidade de filmes lançados no eixo y. Considere apenas os filmes que foram lançados entre 2000 e 2024 e que estão disponíveis no Brasil.'\n",
    ")\n",
    "print(message)"
   ]
  },
  {
   "attachments": {},
   "cell_type": "markdown",
   "id": "db10a63b",
   "metadata": {},
   "source": [
    "### Roda a thread no assistant"
   ]
  },
  {
   "cell_type": "code",
   "execution_count": 6,
   "id": "ab3e750e",
   "metadata": {},
   "outputs": [
    {
     "name": "stdout",
     "output_type": "stream",
     "text": [
      "Run(id='run_oIWeu3TSnk0du2YuSKbqwUkX', assistant_id='asst_eAnD9R2hUjONmvzMB678R4z9', cancelled_at=None, completed_at=None, created_at=1730270102, expires_at=1730270702, failed_at=None, incomplete_details=None, instructions='O nome do usuário é Davi Brilhante e ele está pensando em assinar o serviço de streaming da netflix.', last_error=None, max_completion_tokens=None, max_prompt_tokens=None, metadata={}, model='gpt-4o-mini', object='thread.run', parallel_tool_calls=True, required_action=None, response_format='auto', started_at=None, status='queued', thread_id='thread_e3pRp0SuEidXflfJPSCDsNvb', tool_choice='auto', tools=[CodeInterpreterTool(type='code_interpreter')], truncation_strategy=TruncationStrategy(type='auto', last_messages=None), usage=None, temperature=1.0, top_p=1.0, tool_resources={})\n"
     ]
    }
   ],
   "source": [
    "run = client.beta.threads.runs.create(\n",
    "    thread_id    = myThread.id,\n",
    "    assistant_id = DataAssistant.id,\n",
    "    instructions = 'O nome do usuário é Davi Brilhante e ele está pensando em assinar o serviço de streaming da netflix.'\n",
    ")\n",
    "print(run)"
   ]
  },
  {
   "attachments": {},
   "cell_type": "markdown",
   "id": "7b71e5ba",
   "metadata": {},
   "source": [
    "### Aguarda a run terminar\n",
    "- [estados que uma run pode assumir](https://platform.openai.com/docs/assistants/deep-dive/run-lifecycle)"
   ]
  },
  {
   "cell_type": "code",
   "execution_count": 7,
   "id": "cc04b39a",
   "metadata": {},
   "outputs": [
    {
     "name": "stdout",
     "output_type": "stream",
     "text": [
      "in_progress\n",
      "in_progress\n",
      "in_progress\n",
      "in_progress\n",
      "in_progress\n",
      "in_progress\n",
      "in_progress\n",
      "in_progress\n",
      "in_progress\n",
      "in_progress\n",
      "in_progress\n",
      "in_progress\n",
      "in_progress\n",
      "in_progress\n",
      "in_progress\n",
      "in_progress\n",
      "in_progress\n",
      "in_progress\n",
      "in_progress\n",
      "in_progress\n",
      "in_progress\n",
      "in_progress\n",
      "in_progress\n",
      "in_progress\n",
      "in_progress\n",
      "in_progress\n",
      "in_progress\n",
      "in_progress\n",
      "in_progress\n",
      "in_progress\n",
      "in_progress\n",
      "in_progress\n",
      "in_progress\n",
      "in_progress\n",
      "in_progress\n",
      "in_progress\n",
      "in_progress\n",
      "in_progress\n",
      "in_progress\n",
      "in_progress\n",
      "in_progress\n",
      "in_progress\n",
      "in_progress\n",
      "in_progress\n",
      "in_progress\n",
      "in_progress\n",
      "in_progress\n",
      "in_progress\n",
      "in_progress\n",
      "in_progress\n",
      "in_progress\n",
      "in_progress\n",
      "in_progress\n",
      "completed\n"
     ]
    }
   ],
   "source": [
    "while run.status in ['queued', 'in_progress', 'cancelling']:\n",
    "    run = client.beta.threads.runs.retrieve( # recupera os dados da run \n",
    "        thread_id = myThread.id, # na thread especificada\n",
    "        run_id = run.id # especifica qual run recuperar os dados\n",
    "    )\n",
    "    print(run.status)\n"
   ]
  },
  {
   "attachments": {},
   "cell_type": "markdown",
   "id": "f2b0bf80",
   "metadata": {},
   "source": [
    "### Verifica a resposta"
   ]
  },
  {
   "cell_type": "code",
   "execution_count": 8,
   "id": "6fa5456c",
   "metadata": {},
   "outputs": [
    {
     "name": "stdout",
     "output_type": "stream",
     "text": [
      "SyncCursorPage[Message](data=[Message(id='msg_hHrynld2zgzuYVzfEpvaxiYy', assistant_id='asst_eAnD9R2hUjONmvzMB678R4z9', attachments=[], completed_at=None, content=[ImageFileContentBlock(image_file=ImageFile(file_id='file-g3fIrnuDVlp1OWcF1jXcSOJ1', detail=None), type='image_file'), TextContentBlock(text=Text(annotations=[], value='Aqui está o gráfico que mostra a quantidade de filmes lançados na Netflix entre 2000 e 2024, disponíveis no Brasil. \\n\\n- O eixo X representa os anos de lançamento, enquanto o eixo Y representa a quantidade de filmes lançados em cada ano. \\n\\nSe precisar de mais alguma informação ou análise, é só avisar!'), type='text')], created_at=1730270118, incomplete_at=None, incomplete_details=None, metadata={}, object='thread.message', role='assistant', run_id='run_oIWeu3TSnk0du2YuSKbqwUkX', status=None, thread_id='thread_e3pRp0SuEidXflfJPSCDsNvb'), Message(id='msg_09Kg9ydTzIvxSocHriCDTfhn', assistant_id='asst_eAnD9R2hUjONmvzMB678R4z9', attachments=[], completed_at=None, content=[TextContentBlock(text=Text(annotations=[], value='O arquivo contém as seguintes colunas relevantes:\\n\\n- **releaseYear**: O ano de lançamento do filme.\\n- **availableCountries**: Os países onde o filme está disponível.\\n\\nPara gerar o gráfico que você solicitou, seguiremos os seguintes passos:\\n\\n1. Filtrar os filmes cujo ano de lançamento está entre 2000 e 2024.\\n2. Checar se o Brasil está incluído na lista de países disponíveis para cada filme.\\n3. Contar a quantidade de filmes por ano de lançamento.\\n4. Plotar um gráfico com essas informações.\\n\\nVou realizar esses passos agora.'), type='text')], created_at=1730270108, incomplete_at=None, incomplete_details=None, metadata={}, object='thread.message', role='assistant', run_id='run_oIWeu3TSnk0du2YuSKbqwUkX', status=None, thread_id='thread_e3pRp0SuEidXflfJPSCDsNvb'), Message(id='msg_BFuYfWrG9SjUpJmQ2J8e9bZw', assistant_id='asst_eAnD9R2hUjONmvzMB678R4z9', attachments=[], completed_at=None, content=[TextContentBlock(text=Text(annotations=[], value='Para gerar o gráfico que você solicitou, primeiro, vou processar o arquivo que você enviou. Vou verificar a estrutura dos dados para entender como extrair as informações sobre o ano de lançamento dos filmes disponíveis na Netflix. Vamos dar uma olhada no arquivo.'), type='text')], created_at=1730270103, incomplete_at=None, incomplete_details=None, metadata={}, object='thread.message', role='assistant', run_id='run_oIWeu3TSnk0du2YuSKbqwUkX', status=None, thread_id='thread_e3pRp0SuEidXflfJPSCDsNvb'), Message(id='msg_5GThn163DKzQxjX1EWBeov2u', assistant_id=None, attachments=[], completed_at=None, content=[TextContentBlock(text=Text(annotations=[], value='Gere um gráfico com o ano de lançamento dos filmes do catálogo da Netflix no eixo x e a quantidade de filmes lançados no eixo y. Considere apenas os filmes que foram lançados entre 2000 e 2024 e que estão disponíveis no Brasil.'), type='text')], created_at=1730270101, incomplete_at=None, incomplete_details=None, metadata={}, object='thread.message', role='user', run_id=None, status=None, thread_id='thread_e3pRp0SuEidXflfJPSCDsNvb')], object='list', first_id='msg_hHrynld2zgzuYVzfEpvaxiYy', last_id='msg_5GThn163DKzQxjX1EWBeov2u', has_more=False)\n"
     ]
    }
   ],
   "source": [
    "if run.status == 'completed':\n",
    "    mensagens = client.beta.threads.messages.list(\n",
    "        thread_id = myThread.id\n",
    "    )\n",
    "    print(mensagens)\n",
    "else:\n",
    "    print('Erro:', run.status)"
   ]
  },
  {
   "attachments": {},
   "cell_type": "markdown",
   "id": "27e24b15",
   "metadata": {},
   "source": [
    "### Analisando os passos do modelo"
   ]
  },
  {
   "cell_type": "code",
   "execution_count": 9,
   "id": "b5596864",
   "metadata": {},
   "outputs": [],
   "source": [
    "run_steps = client.beta.threads.runs.steps.list(\n",
    "  thread_id = myThread.id,\n",
    "  run_id = run.id\n",
    ")"
   ]
  },
  {
   "cell_type": "code",
   "execution_count": 10,
   "id": "d531d859",
   "metadata": {},
   "outputs": [
    {
     "name": "stdout",
     "output_type": "stream",
     "text": [
      "\n",
      "=== Step: message_creation\n",
      "\n",
      "=== Step: tool_calls\n",
      "\n",
      "=== Step: message_creation\n",
      "\n",
      "=== Step: tool_calls\n",
      "\n",
      "=== Step: message_creation\n"
     ]
    }
   ],
   "source": [
    "for step in run_steps.data[::-1]:\n",
    "    print('\\n=== Step:', step.step_details.type)"
   ]
  },
  {
   "cell_type": "code",
   "execution_count": 17,
   "id": "31ed0a3a",
   "metadata": {},
   "outputs": [
    {
     "name": "stdout",
     "output_type": "stream",
     "text": [
      "\n",
      "=== Step: message_creation\n",
      "Para gerar o gráfico que você solicitou, primeiro, vou processar o arquivo que você enviou. Vou verificar a estrutura dos dados para entender como extrair as informações sobre o ano de lançamento dos filmes disponíveis na Netflix. Vamos dar uma olhada no arquivo.\n",
      "\n",
      "=== Step: tool_calls\n",
      "-----\n",
      "# Lendo o arquivo enviado para entender sua estrutura\n",
      "import pandas as pd\n",
      "\n",
      "# O arquivo é um CSV, então vamos carregá-lo\n",
      "file_path = '/mnt/data/file-qVAixgzYXD7My4pwiUZdZfSB'\n",
      "data = pd.read_csv(file_path)\n",
      "\n",
      "# Mostrando as primeiras linhas do DataFrame e suas colunas\n",
      "data.head(), data.columns\n",
      "-----\n",
      "\n",
      "=== Step: message_creation\n",
      "O arquivo contém as seguintes colunas relevantes:\n",
      "\n",
      "- **releaseYear**: O ano de lançamento do filme.\n",
      "- **availableCountries**: Os países onde o filme está disponível.\n",
      "\n",
      "Para gerar o gráfico que você solicitou, seguiremos os seguintes passos:\n",
      "\n",
      "1. Filtrar os filmes cujo ano de lançamento está entre 2000 e 2024.\n",
      "2. Checar se o Brasil está incluído na lista de países disponíveis para cada filme.\n",
      "3. Contar a quantidade de filmes por ano de lançamento.\n",
      "4. Plotar um gráfico com essas informações.\n",
      "\n",
      "Vou realizar esses passos agora.\n",
      "\n",
      "=== Step: tool_calls\n",
      "-----\n",
      "import matplotlib.pyplot as plt\n",
      "\n",
      "# Filtrando os dados para incluir apenas filmes entre 2000 e 2024 e que estão disponíveis no Brasil\n",
      "filtered_data = data[(data['releaseYear'].between(2000, 2024, inclusive=True)) &\n",
      "                     (data['availableCountries'].str.contains('BR'))]\n",
      "\n",
      "# Convertendo o ano de lançamento para int e contando a quantidade de filmes por ano\n",
      "release_counts = filtered_data['releaseYear'].value_counts().sort_index()\n",
      "\n",
      "# Criando o gráfico\n",
      "plt.figure(figsize=(12, 6))\n",
      "plt.bar(release_counts.index, release_counts.values, color='blue')\n",
      "plt.title('Quantidade de Filmes Lançados na Netflix (2000-2024) Disponíveis no Brasil')\n",
      "plt.xlabel('Ano de Lançamento')\n",
      "plt.ylabel('Quantidade de Filmes')\n",
      "plt.xticks(release_counts.index, rotation=45)\n",
      "plt.grid(axis='y')\n",
      "plt.tight_layout()\n",
      "plt.show()\n",
      "-----\n",
      "\n",
      "=== Step: message_creation\n",
      "Imagem salva com sucesso!\n"
     ]
    }
   ],
   "source": [
    "for step in run_steps.data[::-1]:\n",
    "    print('\\n=== Step:', step.step_details.type)\n",
    "    \n",
    "    if step.step_details.type == 'tool_calls':\n",
    "            for tool_call in step.step_details.tool_calls:\n",
    "                print('-----')\n",
    "                print(tool_call.code_interpreter.input)\n",
    "                print('-----')\n",
    "                # print('Result')\n",
    "                # print(tool_call.code_interpreter.outputs[0].logs)\n",
    "                \n",
    "    if step.step_details.type == 'message_creation':\n",
    "        message = client.beta.threads.messages.retrieve(\n",
    "            thread_id  = myThread.id,\n",
    "            message_id = step.step_details.message_creation.message_id\n",
    "        )\n",
    "        if message.content[0].type == 'text':\n",
    "            print(message.content[0].text.value)\n",
    "        elif message.content[0].type == 'image_file':\n",
    "            file_id    = message.content[0].image_file.file_id\n",
    "            image_data = client.files.content(file_id)\n",
    "            try:\n",
    "                with open('graficoGerado.png', 'wb') as f:\n",
    "                    f.write(image_data.read())\n",
    "                    print('Imagem salva com sucesso!')\n",
    "            except Exception as e:\n",
    "                print('Erro ao salvar a imagem:', e)"
   ]
  }
 ],
 "metadata": {
  "kernelspec": {
   "display_name": "Python 3",
   "language": "python",
   "name": "python3"
  },
  "language_info": {
   "codemirror_mode": {
    "name": "ipython",
    "version": 3
   },
   "file_extension": ".py",
   "mimetype": "text/x-python",
   "name": "python",
   "nbconvert_exporter": "python",
   "pygments_lexer": "ipython3",
   "version": "3.11.9"
  }
 },
 "nbformat": 4,
 "nbformat_minor": 5
}
