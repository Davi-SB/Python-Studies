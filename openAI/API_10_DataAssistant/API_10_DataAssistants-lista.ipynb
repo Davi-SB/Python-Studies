{
 "cells": [
  {
   "cell_type": "code",
   "execution_count": 1,
   "id": "0b0a7bea",
   "metadata": {},
   "outputs": [],
   "source": [
    "import openai\n",
    "from dotenv import load_dotenv, find_dotenv\n",
    "\n",
    "load_dotenv(find_dotenv())\n",
    "client = openai.Client()"
   ]
  },
  {
   "cell_type": "code",
   "execution_count": 2,
   "id": "1473a674",
   "metadata": {},
   "outputs": [
    {
     "data": {
      "text/html": [
       "<div>\n",
       "<style scoped>\n",
       "    .dataframe tbody tr th:only-of-type {\n",
       "        vertical-align: middle;\n",
       "    }\n",
       "\n",
       "    .dataframe tbody tr th {\n",
       "        vertical-align: top;\n",
       "    }\n",
       "\n",
       "    .dataframe thead th {\n",
       "        text-align: right;\n",
       "    }\n",
       "</style>\n",
       "<table border=\"1\" class=\"dataframe\">\n",
       "  <thead>\n",
       "    <tr style=\"text-align: right;\">\n",
       "      <th></th>\n",
       "      <th>url</th>\n",
       "      <th>title</th>\n",
       "      <th>type</th>\n",
       "      <th>genres</th>\n",
       "      <th>releaseYear</th>\n",
       "      <th>imdbId</th>\n",
       "      <th>imdbAverageRating</th>\n",
       "      <th>imdbNumVotes</th>\n",
       "      <th>availableCountries</th>\n",
       "    </tr>\n",
       "  </thead>\n",
       "  <tbody>\n",
       "    <tr>\n",
       "      <th>0</th>\n",
       "      <td>https://www.netflix.com/title/60000724</td>\n",
       "      <td>Forrest Gump</td>\n",
       "      <td>Movie</td>\n",
       "      <td>Drama, Romance</td>\n",
       "      <td>1994.0</td>\n",
       "      <td>tt0109830</td>\n",
       "      <td>8.8</td>\n",
       "      <td>2311997.0</td>\n",
       "      <td>AD, AE, AG, AL, AO, AR, AT, AU, BA, BB, BE, BG...</td>\n",
       "    </tr>\n",
       "    <tr>\n",
       "      <th>1</th>\n",
       "      <td>https://www.netflix.com/title/1154386</td>\n",
       "      <td>The Fifth Element</td>\n",
       "      <td>Movie</td>\n",
       "      <td>Action, Adventure, Sci-Fi</td>\n",
       "      <td>1997.0</td>\n",
       "      <td>tt0119116</td>\n",
       "      <td>7.6</td>\n",
       "      <td>516291.0</td>\n",
       "      <td>AT, CH, DE</td>\n",
       "    </tr>\n",
       "    <tr>\n",
       "      <th>2</th>\n",
       "      <td>https://www.netflix.com/title/60031236</td>\n",
       "      <td>Kill Bill: Vol. 1</td>\n",
       "      <td>Movie</td>\n",
       "      <td>Action, Crime, Thriller</td>\n",
       "      <td>2003.0</td>\n",
       "      <td>tt0266697</td>\n",
       "      <td>8.2</td>\n",
       "      <td>1219973.0</td>\n",
       "      <td>AE, AL, AO, AT, AU, AZ, BG, BH, BY, CA, CI, CM...</td>\n",
       "    </tr>\n",
       "  </tbody>\n",
       "</table>\n",
       "</div>"
      ],
      "text/plain": [
       "                                      url              title   type  \\\n",
       "0  https://www.netflix.com/title/60000724       Forrest Gump  Movie   \n",
       "1   https://www.netflix.com/title/1154386  The Fifth Element  Movie   \n",
       "2  https://www.netflix.com/title/60031236  Kill Bill: Vol. 1  Movie   \n",
       "\n",
       "                      genres  releaseYear     imdbId  imdbAverageRating  \\\n",
       "0             Drama, Romance       1994.0  tt0109830                8.8   \n",
       "1  Action, Adventure, Sci-Fi       1997.0  tt0119116                7.6   \n",
       "2    Action, Crime, Thriller       2003.0  tt0266697                8.2   \n",
       "\n",
       "   imdbNumVotes                                 availableCountries  \n",
       "0     2311997.0  AD, AE, AG, AL, AO, AR, AT, AU, BA, BB, BE, BG...  \n",
       "1      516291.0                                         AT, CH, DE  \n",
       "2     1219973.0  AE, AL, AO, AT, AU, AZ, BG, BH, BY, CA, CI, CM...  "
      ]
     },
     "execution_count": 2,
     "metadata": {},
     "output_type": "execute_result"
    }
   ],
   "source": [
    "import pandas as pd\n",
    "\n",
    "dataset = pd.read_csv('full_netflix_dataset.csv')\n",
    "dataset.head(3)"
   ]
  },
  {
   "cell_type": "markdown",
   "id": "103ee758",
   "metadata": {},
   "source": [
    "### Cria o arquivo para ser enviado"
   ]
  },
  {
   "cell_type": "code",
   "execution_count": 6,
   "id": "4f06f696",
   "metadata": {},
   "outputs": [
    {
     "name": "stdout",
     "output_type": "stream",
     "text": [
      "FileObject(id='file-PsR3BFxCP9qbK9EuTNVE0lCc', bytes=3462237, created_at=1730267634, filename='full_netflix_dataset.csv', object='file', purpose='assistants', status='processed', status_details=None)\n"
     ]
    }
   ],
   "source": [
    "file = client.files.create(\n",
    "    file    = open('full_netflix_dataset.csv', 'rb'),\n",
    "    purpose = 'assistants'\n",
    ")\n",
    "print(file)"
   ]
  },
  {
   "attachments": {},
   "cell_type": "markdown",
   "id": "d748127d",
   "metadata": {},
   "source": [
    "### Cria o [assistant](https://platform.openai.com/docs/assistants/overview/agents)\n",
    "- `tool_resources` recebe os ids dos arquivos"
   ]
  },
  {
   "cell_type": "code",
   "execution_count": 8,
   "id": "b8385a71",
   "metadata": {},
   "outputs": [],
   "source": [
    "DataAssistant = client.beta.assistants.create(\n",
    "    name = \"Engenheiro de Dados\",\n",
    "    instructions = 'Você é um Engenheiro de Dados que trabalha para a Netflix. Você recebeu o arquivo .CSV full_netflix_dataset.csv com informações importantes sobre o catálogo da Netflix. Sua tarefa é analisar o arquivo e responder as perguntas sobre os dados.',\n",
    "    tools = [{'type': 'code_interpreter'}],\n",
    "    tool_resources = {'code_interpreter': \n",
    "                        {'file_ids': \n",
    "                            [file.id]\n",
    "                        }\n",
    "                     },\n",
    "    model = 'gpt-4o-mini'\n",
    ")"
   ]
  },
  {
   "attachments": {},
   "cell_type": "markdown",
   "id": "2dd2acc5",
   "metadata": {},
   "source": [
    "### Cria e adiciona a mensagem em myThread"
   ]
  },
  {
   "cell_type": "code",
   "execution_count": 9,
   "id": "4ba988f8",
   "metadata": {},
   "outputs": [
    {
     "name": "stdout",
     "output_type": "stream",
     "text": [
      "Thread(id='thread_CsDR8JXgq2mN2vO4zMCvBPVy', created_at=1730268650, metadata={}, object='thread', tool_resources=ToolResources(code_interpreter=None, file_search=None))\n",
      "\n",
      "Message(id='msg_4EGKNFpN6j2rwhpLyNFQ003q', assistant_id=None, attachments=[], completed_at=None, content=[TextContentBlock(text=Text(annotations=[], value='Liste todos os elementos do catálogo da Netflix com maior nota imdb que estão disponíveis no Brasil e possuem mais de um milhão de votos. Ordene a lista resposta por nota imdb de forma decrescente e mostre qual foi.'), type='text')], created_at=1730268650, incomplete_at=None, incomplete_details=None, metadata={}, object='thread.message', role='user', run_id=None, status=None, thread_id='thread_CsDR8JXgq2mN2vO4zMCvBPVy')\n"
     ]
    }
   ],
   "source": [
    "myThread = client.beta.threads.create()\n",
    "print(myThread, end='\\n\\n')\n",
    "\n",
    "message = client.beta.threads.messages.create( # cria uma mensagem\n",
    "    thread_id = myThread.id, # na thread especificada\n",
    "    role = 'user',\n",
    "    content = 'Liste todos os elementos do catálogo da Netflix com maior nota imdb que estão disponíveis no Brasil e possuem mais de um milhão de votos. Ordene a lista resposta por nota imdb de forma decrescente e mostre qual foi.'\n",
    ")\n",
    "print(message)"
   ]
  },
  {
   "attachments": {},
   "cell_type": "markdown",
   "id": "db10a63b",
   "metadata": {},
   "source": [
    "### Roda a thread no assistant"
   ]
  },
  {
   "cell_type": "code",
   "execution_count": 10,
   "id": "ab3e750e",
   "metadata": {},
   "outputs": [
    {
     "name": "stdout",
     "output_type": "stream",
     "text": [
      "Run(id='run_Y9Zt7tKZTgbB5LiHQROdMT98', assistant_id='asst_pAXuddZgVF2vAxDd7YnHoRvw', cancelled_at=None, completed_at=None, created_at=1730268819, expires_at=1730269419, failed_at=None, incomplete_details=None, instructions='O nome do usuário é Davi Brilhante e ele está pensando em assinar o serviço de streaming da netflix.', last_error=None, max_completion_tokens=None, max_prompt_tokens=None, metadata={}, model='gpt-4o-mini', object='thread.run', parallel_tool_calls=True, required_action=None, response_format='auto', started_at=None, status='queued', thread_id='thread_CsDR8JXgq2mN2vO4zMCvBPVy', tool_choice='auto', tools=[CodeInterpreterTool(type='code_interpreter')], truncation_strategy=TruncationStrategy(type='auto', last_messages=None), usage=None, temperature=1.0, top_p=1.0, tool_resources={})\n"
     ]
    }
   ],
   "source": [
    "run = client.beta.threads.runs.create(\n",
    "    thread_id    = myThread.id,\n",
    "    assistant_id = DataAssistant.id,\n",
    "    instructions = 'O nome do usuário é Davi Brilhante e ele está pensando em assinar o serviço de streaming da netflix.'\n",
    ")\n",
    "print(run)"
   ]
  },
  {
   "attachments": {},
   "cell_type": "markdown",
   "id": "7b71e5ba",
   "metadata": {},
   "source": [
    "### Aguarda a run terminar\n",
    "- [estados que uma run pode assumir](https://platform.openai.com/docs/assistants/deep-dive/run-lifecycle)"
   ]
  },
  {
   "cell_type": "code",
   "execution_count": 11,
   "id": "cc04b39a",
   "metadata": {},
   "outputs": [
    {
     "name": "stdout",
     "output_type": "stream",
     "text": [
      "in_progress\n",
      "in_progress\n",
      "in_progress\n",
      "in_progress\n",
      "in_progress\n",
      "in_progress\n",
      "in_progress\n",
      "in_progress\n",
      "in_progress\n",
      "in_progress\n",
      "in_progress\n",
      "in_progress\n",
      "in_progress\n",
      "in_progress\n",
      "in_progress\n",
      "in_progress\n",
      "in_progress\n",
      "in_progress\n",
      "in_progress\n",
      "in_progress\n",
      "in_progress\n",
      "in_progress\n",
      "in_progress\n",
      "in_progress\n",
      "in_progress\n",
      "in_progress\n",
      "in_progress\n",
      "in_progress\n",
      "in_progress\n",
      "in_progress\n",
      "in_progress\n",
      "in_progress\n",
      "completed\n"
     ]
    }
   ],
   "source": [
    "while run.status in ['queued', 'in_progress', 'cancelling']:\n",
    "    run = client.beta.threads.runs.retrieve( # recupera os dados da run \n",
    "        thread_id = myThread.id, # na thread especificada\n",
    "        run_id = run.id # especifica qual run recuperar os dados\n",
    "    )\n",
    "    print(run.status)\n"
   ]
  },
  {
   "attachments": {},
   "cell_type": "markdown",
   "id": "f2b0bf80",
   "metadata": {},
   "source": [
    "### Verifica a resposta"
   ]
  },
  {
   "cell_type": "code",
   "execution_count": 12,
   "id": "6fa5456c",
   "metadata": {},
   "outputs": [
    {
     "name": "stdout",
     "output_type": "stream",
     "text": [
      "SyncCursorPage[Message](data=[Message(id='msg_FtJYsI2dLMBrxF2FbfCq1shX', assistant_id='asst_pAXuddZgVF2vAxDd7YnHoRvw', attachments=[], completed_at=None, content=[TextContentBlock(text=Text(annotations=[], value='Aqui estão os títulos disponíveis na Netflix Brasil que possuem uma nota IMDb superior a 0 e mais de um milhão de votos, ordenados por nota IMDb de forma decrescente:\\n\\n| Título                                   | Nota IMDb | Número de Votos |\\n|------------------------------------------|-----------|------------------|\\n| Breaking Bad                             | 9.5       | 2,222,701        |\\n| The Godfather                            | 9.2       | 2,059,785        |\\n| Pulp Fiction                             | 8.9       | 2,269,045        |\\n| Forrest Gump                             | 8.8       | 2,311,997        |\\n| Stranger Things                         | 8.7       | 1,385,625        |\\n| Terminator 2: Judgment Day              | 8.6       | 1,199,152        |\\n| Saving Private Ryan                      | 8.6       | 1,527,571        |\\n| Whiplash                                 | 8.5       | 1,024,632        |\\n| Django Unchained                         | 8.5       | 1,735,720        |\\n| Eternal Sunshine of the Spotless Mind    | 8.3       | 1,100,831        |\\n| Shutter Island                           | 8.2       | 1,498,171        |\\n| The Walking Dead                         | 8.1       | 1,110,095        |\\n| The Hunger Games                         | 7.2       | 1,021,328        |\\n\\nSe precisar de mais informações ou outros detalhes, please let me know!'), type='text')], created_at=1730268835, incomplete_at=None, incomplete_details=None, metadata={}, object='thread.message', role='assistant', run_id='run_Y9Zt7tKZTgbB5LiHQROdMT98', status=None, thread_id='thread_CsDR8JXgq2mN2vO4zMCvBPVy'), Message(id='msg_TCG0LrWHlH6UqUTPwvF3VIEs', assistant_id='asst_pAXuddZgVF2vAxDd7YnHoRvw', attachments=[], completed_at=None, content=[TextContentBlock(text=Text(annotations=[], value='Os dados foram carregados corretamente e agora posso proceder com o filtro conforme solicitado. Vou:\\n\\n1. Filtrar os títulos que estão disponíveis no Brasil.\\n2. Verificar se a nota IMDb é maior que 0.\\n3. Conferir se o número de votos no IMDb é superior a um milhão.\\n4. Ordenar os resultados pela nota IMDb em ordem decrescente.\\n\\nVamos fazer isso agora.'), type='text')], created_at=1730268830, incomplete_at=None, incomplete_details=None, metadata={}, object='thread.message', role='assistant', run_id='run_Y9Zt7tKZTgbB5LiHQROdMT98', status=None, thread_id='thread_CsDR8JXgq2mN2vO4zMCvBPVy'), Message(id='msg_xgwQ7cNupCr7sWVGMbphBd4I', assistant_id='asst_pAXuddZgVF2vAxDd7YnHoRvw', attachments=[], completed_at=None, content=[TextContentBlock(text=Text(annotations=[], value='O arquivo parece ser um CSV contendo informações sobre títulos disponíveis na Netflix. Aqui estão algumas colunas que o arquivo contém:\\n\\n- `url`: URL do título na Netflix\\n- `title`: Título do filme ou série\\n- `type`: Tipo (filme ou série)\\n- `genres`: Gêneros\\n- `releaseYear`: Ano de lançamento\\n- `imdbId`: ID do IMDb\\n- `imdbAverageRating`: Nota média no IMDb\\n- `imdbNumVotes`: Número de votos no IMDb\\n- `availableCountries`: Países onde está disponível\\n\\nAgora, vou processar os dados para filtrar os títulos que têm uma nota IMDb superior a um, estão disponíveis no Brasil e têm mais de um milhão de votos, ordenando por nota IMDb de forma decrescente. Vamos fazer isso!'), type='text')], created_at=1730268824, incomplete_at=None, incomplete_details=None, metadata={}, object='thread.message', role='assistant', run_id='run_Y9Zt7tKZTgbB5LiHQROdMT98', status=None, thread_id='thread_CsDR8JXgq2mN2vO4zMCvBPVy'), Message(id='msg_Wg98Di0goGdO0iojHDO4m95T', assistant_id='asst_pAXuddZgVF2vAxDd7YnHoRvw', attachments=[], completed_at=None, content=[TextContentBlock(text=Text(annotations=[], value='Para realizar a solicitação, primeiro, vou examinar o conteúdo do arquivo enviado. Isso me permitirá entender como os dados estão estruturados e quais informações estão disponíveis. Após revisar os dados, poderei filtrar os elementos conforme solicitado. Vamos verificar o conteúdo do arquivo.'), type='text')], created_at=1730268820, incomplete_at=None, incomplete_details=None, metadata={}, object='thread.message', role='assistant', run_id='run_Y9Zt7tKZTgbB5LiHQROdMT98', status=None, thread_id='thread_CsDR8JXgq2mN2vO4zMCvBPVy'), Message(id='msg_4EGKNFpN6j2rwhpLyNFQ003q', assistant_id=None, attachments=[], completed_at=None, content=[TextContentBlock(text=Text(annotations=[], value='Liste todos os elementos do catálogo da Netflix com maior nota imdb que estão disponíveis no Brasil e possuem mais de um milhão de votos. Ordene a lista resposta por nota imdb de forma decrescente e mostre qual foi.'), type='text')], created_at=1730268650, incomplete_at=None, incomplete_details=None, metadata={}, object='thread.message', role='user', run_id=None, status=None, thread_id='thread_CsDR8JXgq2mN2vO4zMCvBPVy')], object='list', first_id='msg_FtJYsI2dLMBrxF2FbfCq1shX', last_id='msg_4EGKNFpN6j2rwhpLyNFQ003q', has_more=False)\n"
     ]
    }
   ],
   "source": [
    "if run.status == 'completed':\n",
    "    mensagens = client.beta.threads.messages.list(\n",
    "        thread_id = myThread.id\n",
    "    )\n",
    "    print(mensagens)\n",
    "else:\n",
    "    print('Erro:', run.status)"
   ]
  },
  {
   "cell_type": "markdown",
   "id": "45838d51",
   "metadata": {},
   "source": [
    "### Acesso de mensagens\n",
    "\n",
    "<details>\n",
    "  <summary>------- Output Esperado -------</summary>\n",
    "\n",
    "  - Breaking Bad\n",
    "  - The Godfather\n",
    "  - Pulp Fiction\n",
    "  - Forrest Gump\n",
    "  - Stranger Things\n",
    "  - Terminator 2: Judgment Day\n",
    "  - Saving Private Ryan\n",
    "  - Whiplash\n",
    "  - Django Unchained\n",
    "  - Eternal Sunshine of the Spotless Mind\n",
    "  - Shutter Island\n",
    "  - The Walking Dead\n",
    "  - The Hunger Games\n",
    "</details>\n",
    "\n"
   ]
  },
  {
   "cell_type": "code",
   "execution_count": 15,
   "id": "3f9d818b",
   "metadata": {},
   "outputs": [
    {
     "name": "stdout",
     "output_type": "stream",
     "text": [
      "    user: Liste todos os elementos do catálogo da Netflix com maior nota imdb que estão disponíveis no Brasil e possuem mais de um milhão de votos. Ordene a lista resposta por nota imdb de forma decrescente e mostre qual foi.\n",
      "\n",
      "    assistant: Para realizar a solicitação, primeiro, vou examinar o conteúdo do arquivo enviado. Isso me permitirá entender como os dados estão estruturados e quais informações estão disponíveis. Após revisar os dados, poderei filtrar os elementos conforme solicitado. Vamos verificar o conteúdo do arquivo.\n",
      "\n",
      "    assistant: O arquivo parece ser um CSV contendo informações sobre títulos disponíveis na Netflix. Aqui estão algumas colunas que o arquivo contém:\n",
      "\n",
      "- `url`: URL do título na Netflix\n",
      "- `title`: Título do filme ou série\n",
      "- `type`: Tipo (filme ou série)\n",
      "- `genres`: Gêneros\n",
      "- `releaseYear`: Ano de lançamento\n",
      "- `imdbId`: ID do IMDb\n",
      "- `imdbAverageRating`: Nota média no IMDb\n",
      "- `imdbNumVotes`: Número de votos no IMDb\n",
      "- `availableCountries`: Países onde está disponível\n",
      "\n",
      "Agora, vou processar os dados para filtrar os títulos que têm uma nota IMDb superior a um, estão disponíveis no Brasil e têm mais de um milhão de votos, ordenando por nota IMDb de forma decrescente. Vamos fazer isso!\n",
      "\n",
      "    assistant: Os dados foram carregados corretamente e agora posso proceder com o filtro conforme solicitado. Vou:\n",
      "\n",
      "1. Filtrar os títulos que estão disponíveis no Brasil.\n",
      "2. Verificar se a nota IMDb é maior que 0.\n",
      "3. Conferir se o número de votos no IMDb é superior a um milhão.\n",
      "4. Ordenar os resultados pela nota IMDb em ordem decrescente.\n",
      "\n",
      "Vamos fazer isso agora.\n",
      "\n",
      "    assistant: Aqui estão os títulos disponíveis na Netflix Brasil que possuem uma nota IMDb superior a 0 e mais de um milhão de votos, ordenados por nota IMDb de forma decrescente:\n",
      "\n",
      "| Título                                   | Nota IMDb | Número de Votos |\n",
      "|------------------------------------------|-----------|------------------|\n",
      "| Breaking Bad                             | 9.5       | 2,222,701        |\n",
      "| The Godfather                            | 9.2       | 2,059,785        |\n",
      "| Pulp Fiction                             | 8.9       | 2,269,045        |\n",
      "| Forrest Gump                             | 8.8       | 2,311,997        |\n",
      "| Stranger Things                         | 8.7       | 1,385,625        |\n",
      "| Terminator 2: Judgment Day              | 8.6       | 1,199,152        |\n",
      "| Saving Private Ryan                      | 8.6       | 1,527,571        |\n",
      "| Whiplash                                 | 8.5       | 1,024,632        |\n",
      "| Django Unchained                         | 8.5       | 1,735,720        |\n",
      "| Eternal Sunshine of the Spotless Mind    | 8.3       | 1,100,831        |\n",
      "| Shutter Island                           | 8.2       | 1,498,171        |\n",
      "| The Walking Dead                         | 8.1       | 1,110,095        |\n",
      "| The Hunger Games                         | 7.2       | 1,021,328        |\n",
      "\n",
      "Se precisar de mais informações ou outros detalhes, please let me know!\n",
      "\n"
     ]
    }
   ],
   "source": [
    "for mensagem in mensagens.data[::-1]:\n",
    "    role    = mensagem.role\n",
    "    content = mensagem.content[0].text.value\n",
    "    print(f'    {role}: {content}', end='\\n\\n')"
   ]
  },
  {
   "attachments": {},
   "cell_type": "markdown",
   "id": "27e24b15",
   "metadata": {},
   "source": [
    "### Analisando os passos do modelo"
   ]
  },
  {
   "cell_type": "code",
   "execution_count": 16,
   "id": "b5596864",
   "metadata": {},
   "outputs": [],
   "source": [
    "run_steps = client.beta.threads.runs.steps.list(\n",
    "  thread_id = myThread.id,\n",
    "  run_id = run.id\n",
    ")"
   ]
  },
  {
   "cell_type": "code",
   "execution_count": 19,
   "id": "d531d859",
   "metadata": {},
   "outputs": [
    {
     "name": "stdout",
     "output_type": "stream",
     "text": [
      "\n",
      "=== Step: message_creation\n",
      "\n",
      "=== Step: tool_calls\n",
      "\n",
      "=== Step: message_creation\n",
      "\n",
      "=== Step: tool_calls\n",
      "\n",
      "=== Step: message_creation\n",
      "\n",
      "=== Step: tool_calls\n",
      "\n",
      "=== Step: message_creation\n"
     ]
    }
   ],
   "source": [
    "for step in run_steps.data[::-1]:\n",
    "    print('\\n=== Step:', step.step_details.type)"
   ]
  },
  {
   "cell_type": "code",
   "execution_count": 18,
   "id": "31ed0a3a",
   "metadata": {},
   "outputs": [
    {
     "name": "stdout",
     "output_type": "stream",
     "text": [
      "\n",
      "=== Step: message_creation\n",
      "Para realizar a solicitação, primeiro, vou examinar o conteúdo do arquivo enviado. Isso me permitirá entender como os dados estão estruturados e quais informações estão disponíveis. Após revisar os dados, poderei filtrar os elementos conforme solicitado. Vamos verificar o conteúdo do arquivo.\n",
      "\n",
      "=== Step: tool_calls\n",
      "-----\n",
      "# Vamos ler o conteúdo do arquivo enviado para entender sua estrutura\n",
      "file_path = '/mnt/data/file-PsR3BFxCP9qbK9EuTNVE0lCc'\n",
      "with open(file_path, 'r') as file:\n",
      "    content = file.readlines()\n",
      "\n",
      "# A primeira linha geralmente contém os headers, vamos mostrar algumas linhas do arquivo\n",
      "content[:10]  # Mostrando as primeiras 10 linhas para análise inicial.\n",
      "-----\n",
      "\n",
      "=== Step: message_creation\n",
      "O arquivo parece ser um CSV contendo informações sobre títulos disponíveis na Netflix. Aqui estão algumas colunas que o arquivo contém:\n",
      "\n",
      "- `url`: URL do título na Netflix\n",
      "- `title`: Título do filme ou série\n",
      "- `type`: Tipo (filme ou série)\n",
      "- `genres`: Gêneros\n",
      "- `releaseYear`: Ano de lançamento\n",
      "- `imdbId`: ID do IMDb\n",
      "- `imdbAverageRating`: Nota média no IMDb\n",
      "- `imdbNumVotes`: Número de votos no IMDb\n",
      "- `availableCountries`: Países onde está disponível\n",
      "\n",
      "Agora, vou processar os dados para filtrar os títulos que têm uma nota IMDb superior a um, estão disponíveis no Brasil e têm mais de um milhão de votos, ordenando por nota IMDb de forma decrescente. Vamos fazer isso!\n",
      "\n",
      "=== Step: tool_calls\n",
      "-----\n",
      "import pandas as pd\n",
      "\n",
      "# Lendo o arquivo CSV\n",
      "data = pd.read_csv(file_path)\n",
      "\n",
      "# Exibir as primeiras linhas do DataFrame para garantir que os dados foram carregados corretamente\n",
      "data.head()  # Exibindo apenas as primeiras linhas para análise inicial.\n",
      "-----\n",
      "\n",
      "=== Step: message_creation\n",
      "Os dados foram carregados corretamente e agora posso proceder com o filtro conforme solicitado. Vou:\n",
      "\n",
      "1. Filtrar os títulos que estão disponíveis no Brasil.\n",
      "2. Verificar se a nota IMDb é maior que 0.\n",
      "3. Conferir se o número de votos no IMDb é superior a um milhão.\n",
      "4. Ordenar os resultados pela nota IMDb em ordem decrescente.\n",
      "\n",
      "Vamos fazer isso agora.\n",
      "\n",
      "=== Step: tool_calls\n",
      "-----\n",
      "# Filtrando os dados\n",
      "# Convertendo as colunas de interesse para o tipo adequado (float)\n",
      "data['imdbAverageRating'] = data['imdbAverageRating'].astype(float)\n",
      "data['imdbNumVotes'] = data['imdbNumVotes'].astype(float)\n",
      "\n",
      "# Filtrar títulos disponíveis no Brasil e com mais de 1 milhão de votos\n",
      "filtered_data = data[\n",
      "    (data['imdbAverageRating'] > 0) &\n",
      "    (data['imdbNumVotes'] > 1_000_000) &\n",
      "    (data['availableCountries'].str.contains('BR'))\n",
      "]\n",
      "\n",
      "# Ordenar os resultados por nota IMDb em ordem decrescente\n",
      "sorted_filtered_data = filtered_data.sort_values(by='imdbAverageRating', ascending=False)\n",
      "\n",
      "# Exibir os resultados\n",
      "sorted_filtered_data[['title', 'imdbAverageRating', 'imdbNumVotes']]\n",
      "-----\n",
      "\n",
      "=== Step: message_creation\n",
      "Aqui estão os títulos disponíveis na Netflix Brasil que possuem uma nota IMDb superior a 0 e mais de um milhão de votos, ordenados por nota IMDb de forma decrescente:\n",
      "\n",
      "| Título                                   | Nota IMDb | Número de Votos |\n",
      "|------------------------------------------|-----------|------------------|\n",
      "| Breaking Bad                             | 9.5       | 2,222,701        |\n",
      "| The Godfather                            | 9.2       | 2,059,785        |\n",
      "| Pulp Fiction                             | 8.9       | 2,269,045        |\n",
      "| Forrest Gump                             | 8.8       | 2,311,997        |\n",
      "| Stranger Things                         | 8.7       | 1,385,625        |\n",
      "| Terminator 2: Judgment Day              | 8.6       | 1,199,152        |\n",
      "| Saving Private Ryan                      | 8.6       | 1,527,571        |\n",
      "| Whiplash                                 | 8.5       | 1,024,632        |\n",
      "| Django Unchained                         | 8.5       | 1,735,720        |\n",
      "| Eternal Sunshine of the Spotless Mind    | 8.3       | 1,100,831        |\n",
      "| Shutter Island                           | 8.2       | 1,498,171        |\n",
      "| The Walking Dead                         | 8.1       | 1,110,095        |\n",
      "| The Hunger Games                         | 7.2       | 1,021,328        |\n",
      "\n",
      "Se precisar de mais informações ou outros detalhes, please let me know!\n"
     ]
    }
   ],
   "source": [
    "for step in run_steps.data[::-1]:\n",
    "    print('\\n=== Step:', step.step_details.type)\n",
    "    \n",
    "    if step.step_details.type == 'tool_calls':\n",
    "            for tool_call in step.step_details.tool_calls:\n",
    "                print('-----')\n",
    "                print(tool_call.code_interpreter.input)\n",
    "                print('-----')\n",
    "                # print('Result')\n",
    "                # print(tool_call.code_interpreter.outputs[0].logs)\n",
    "                \n",
    "    if step.step_details.type == 'message_creation':\n",
    "        message = client.beta.threads.messages.retrieve(\n",
    "            thread_id  = myThread.id,\n",
    "            message_id = step.step_details.message_creation.message_id\n",
    "        )\n",
    "        print(message.content[0].text.value)"
   ]
  }
 ],
 "metadata": {
  "kernelspec": {
   "display_name": "Python 3",
   "language": "python",
   "name": "python3"
  },
  "language_info": {
   "codemirror_mode": {
    "name": "ipython",
    "version": 3
   },
   "file_extension": ".py",
   "mimetype": "text/x-python",
   "name": "python",
   "nbconvert_exporter": "python",
   "pygments_lexer": "ipython3",
   "version": "3.11.9"
  }
 },
 "nbformat": 4,
 "nbformat_minor": 5
}
