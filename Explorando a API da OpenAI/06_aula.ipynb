{
 "cells": [
  {
   "cell_type": "code",
   "execution_count": 2,
   "metadata": {},
   "outputs": [
    {
     "data": {
      "text/plain": [
       "True"
      ]
     },
     "execution_count": 2,
     "metadata": {},
     "output_type": "execute_result"
    }
   ],
   "source": [
    "import openai\n",
    "from dotenv import load_dotenv, find_dotenv\n",
    "\n",
    "load_dotenv(find_dotenv())"
   ]
  },
  {
   "cell_type": "code",
   "execution_count": 3,
   "id": "9426fcfa",
   "metadata": {},
   "outputs": [],
   "source": [
    "client = openai.Client()"
   ]
  },
  {
   "cell_type": "code",
   "execution_count": 4,
   "id": "8cc401a1",
   "metadata": {},
   "outputs": [],
   "source": [
    "mensagens = [{'role': 'user', 'content': 'crie uma história sobre uma viagem a marte'}]\n",
    "\n",
    "resposta = client.chat.completions.create(\n",
    "    messages=mensagens,\n",
    "    model='gpt-3.5-turbo-0125',\n",
    "    max_tokens=1000,\n",
    "    temperature=0,\n",
    "    stream=True\n",
    ")"
   ]
  },
  {
   "cell_type": "code",
   "execution_count": 5,
   "id": "025f183e",
   "metadata": {},
   "outputs": [
    {
     "name": "stdout",
     "output_type": "stream",
     "text": [
      "Era o ano de 2050 e a humanidade finalmente havia conseguido enviar uma missão tripulada para Marte. A nave espacial, batizada de \"Explorador Vermelho\", estava equipada com tecnologia de ponta e uma equipe de astronautas altamente treinados.\n",
      "\n",
      "A viagem até Marte durou meses, mas finalmente a nave chegou ao planeta vermelho. Ao pousar na superfície marciana, os astronautas ficaram maravilhados com a paisagem árida e desolada, mas ao mesmo tempo fascinante.\n",
      "\n",
      "Durante as semanas seguintes, os astronautas exploraram a superfície de Marte, coletando amostras de solo e rochas, estudando a geologia do planeta e procurando por sinais de vida. Eles também realizaram experimentos científicos para estudar a atmosfera marciana e a possibilidade de colonização futura.\n",
      "\n",
      "Mas a viagem não foi apenas trabalho árduo. Os astronautas também tiveram tempo para desfrutar de momentos de lazer, como assistir ao pôr do sol marciano, fazer caminhadas pela superfície do planeta e até mesmo jogar futebol em gravidade reduzida.\n",
      "\n",
      "No entanto, nem tudo correu conforme o planejado. Durante uma tempestade de poeira, a nave espacial foi danificada e os astronautas tiveram que lutar para consertá-la e garantir sua sobrevivência. Felizmente, eles conseguiram superar os desafios e retornar em segurança à Terra, trazendo consigo valiosas descobertas e experiências inesquecíveis.\n",
      "\n",
      "A viagem a Marte foi um marco na história da exploração espacial e abriu caminho para futuras missões ainda mais ambiciosas. Os astronautas que participaram da missão foram recebidos como heróis e suas histórias de coragem e determinação inspiraram gerações de exploradores espaciais."
     ]
    }
   ],
   "source": [
    "resposta_completa = ''\n",
    "for stream_resposta in resposta:\n",
    "    texto = stream_resposta.choices[0].delta.content\n",
    "    if texto:\n",
    "        resposta_completa += texto\n",
    "        print(texto, end='')      "
   ]
  },
  {
   "cell_type": "code",
   "execution_count": 6,
   "id": "16ed394c",
   "metadata": {},
   "outputs": [
    {
     "name": "stdout",
     "output_type": "stream",
     "text": [
      "Era o ano de 2050 e a humanidade finalmente havia conseguido enviar uma missão tripulada para Marte. A nave espacial, batizada de \"Explorador Vermelho\", estava equipada com tecnologia de ponta e uma equipe de astronautas altamente treinados.\n",
      "\n",
      "A viagem até Marte durou meses, mas finalmente a nave chegou ao planeta vermelho. Ao pousar na superfície marciana, os astronautas ficaram maravilhados com a paisagem árida e desolada, mas ao mesmo tempo fascinante.\n",
      "\n",
      "Durante as semanas seguintes, os astronautas exploraram a superfície de Marte, coletando amostras de solo e rochas, estudando a geologia do planeta e procurando por sinais de vida. Eles também realizaram experimentos científicos para estudar a atmosfera marciana e a possibilidade de colonização futura.\n",
      "\n",
      "Mas a viagem não foi apenas trabalho árduo. Os astronautas também tiveram tempo para desfrutar de momentos de lazer, como assistir ao pôr do sol marciano, fazer caminhadas pela superfície do planeta e até mesmo jogar futebol em gravidade reduzida.\n",
      "\n",
      "No entanto, nem tudo correu conforme o planejado. Durante uma tempestade de poeira, a nave espacial foi danificada e os astronautas tiveram que lutar para consertá-la e garantir sua sobrevivência. Felizmente, eles conseguiram superar os desafios e retornar em segurança à Terra, trazendo consigo valiosas descobertas e experiências inesquecíveis.\n",
      "\n",
      "A viagem a Marte foi um marco na história da exploração espacial e abriu caminho para futuras missões ainda mais ambiciosas. Os astronautas que participaram da missão foram recebidos como heróis e suas histórias de coragem e determinação inspiraram gerações de exploradores espaciais.\n"
     ]
    }
   ],
   "source": [
    "print(resposta_completa)"
   ]
  },
  {
   "cell_type": "code",
   "execution_count": null,
   "id": "3bdbb2d6",
   "metadata": {},
   "outputs": [],
   "source": [
    "print(resposta.choices[0].message.content)"
   ]
  }
 ],
 "metadata": {
  "kernelspec": {
   "display_name": "Python 3",
   "language": "python",
   "name": "python3"
  },
  "language_info": {
   "codemirror_mode": {
    "name": "ipython",
    "version": 3
   },
   "file_extension": ".py",
   "mimetype": "text/x-python",
   "name": "python",
   "nbconvert_exporter": "python",
   "pygments_lexer": "ipython3",
   "version": "3.11.9"
  }
 },
 "nbformat": 4,
 "nbformat_minor": 5
}
